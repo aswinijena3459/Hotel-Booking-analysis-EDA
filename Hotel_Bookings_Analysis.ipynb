{
  "nbformat": 4,
  "nbformat_minor": 0,
  "metadata": {
    "colab": {
      "provenance": [],
      "authorship_tag": "ABX9TyOcONxS3ZHEmx2sYwIS7aI9",
      "include_colab_link": true
    },
    "kernelspec": {
      "name": "python3",
      "display_name": "Python 3"
    },
    "language_info": {
      "name": "python"
    }
  },
  "cells": [
    {
      "cell_type": "markdown",
      "metadata": {
        "id": "view-in-github",
        "colab_type": "text"
      },
      "source": [
        "<a href=\"https://colab.research.google.com/github/aswinijena3459/Hotel-Booking-analysis-EDA/blob/main/Hotel_Bookings_Analysis.ipynb\" target=\"_parent\"><img src=\"https://colab.research.google.com/assets/colab-badge.svg\" alt=\"Open In Colab\"/></a>"
      ]
    },
    {
      "cell_type": "markdown",
      "source": [
        "# **Project Name**    - Hotel Bookings Analysis"
      ],
      "metadata": {
        "id": "j1MGZxVZdrB-"
      }
    },
    {
      "cell_type": "markdown",
      "source": [
        "##### **Project Type** - Exploratory Data Analysis\n",
        "##### **Contribution** - Individual"
      ],
      "metadata": {
        "id": "kjvW0OpSd7Nu"
      }
    },
    {
      "cell_type": "markdown",
      "source": [
        "# **GitHub Link -**"
      ],
      "metadata": {
        "id": "3xY4KoBHqOQh"
      }
    },
    {
      "cell_type": "markdown",
      "source": [
        "# **Problem Statement-**\n"
      ],
      "metadata": {
        "id": "ukcsvEJNqdiP"
      }
    },
    {
      "cell_type": "markdown",
      "source": [
        "#### **Define Your Business Objective?**"
      ],
      "metadata": {
        "id": "9RiUZ8Imqlig"
      }
    },
    {
      "cell_type": "code",
      "source": [],
      "metadata": {
        "id": "Y37E2AcXcxcl"
      },
      "execution_count": null,
      "outputs": []
    },
    {
      "cell_type": "markdown",
      "source": [
        "# ***Let's Begin !***"
      ],
      "metadata": {
        "id": "JDBxLe7mr4kX"
      }
    },
    {
      "cell_type": "markdown",
      "source": [
        "#### Importing the dataset from google drive"
      ],
      "metadata": {
        "id": "T6dMuwj5smB9"
      }
    },
    {
      "cell_type": "code",
      "source": [
        "# Mounting drive\n",
        "from google.colab import drive\n",
        "drive.mount('/content/drive')"
      ],
      "metadata": {
        "colab": {
          "base_uri": "https://localhost:8080/"
        },
        "id": "l00Hnzgecxjp",
        "outputId": "1a30b9db-a0f3-4d9d-d3b9-ee22d0342d40"
      },
      "execution_count": 1,
      "outputs": [
        {
          "output_type": "stream",
          "name": "stdout",
          "text": [
            "Mounted at /content/drive\n"
          ]
        }
      ]
    },
    {
      "cell_type": "markdown",
      "source": [
        "#### Importing required libraries"
      ],
      "metadata": {
        "id": "mYacYsbEtjV3"
      }
    },
    {
      "cell_type": "code",
      "source": [
        "import pandas as pd\n",
        "import numpy as np\n",
        "import matplotlib.pyplot as plt\n",
        "plt.rcParams['figure.figsize'] = (10,7)\n",
        "%matplotlib inline \n",
        "import seaborn as sns\n",
        "import missingno as msno"
      ],
      "metadata": {
        "id": "Tj6z3XiDcxoU"
      },
      "execution_count": 2,
      "outputs": []
    },
    {
      "cell_type": "markdown",
      "source": [
        "## ***1. Know Your Data***"
      ],
      "metadata": {
        "id": "61SNRiUuwrrK"
      }
    },
    {
      "cell_type": "code",
      "source": [
        "## Reading the dataset\n",
        "df=pd.read_csv('/content/drive/MyDrive/AlmaBetter/Capstone projects/EDA/Hotel Booking Analysis/Hotel Bookings.csv')# Load Dataset\n",
        "df ###Dataset first look"
      ],
      "metadata": {
        "colab": {
          "base_uri": "https://localhost:8080/",
          "height": 661
        },
        "id": "C6POigsWcxtN",
        "outputId": "5423b42a-8b49-4f4b-e53b-8735f30bc10e"
      },
      "execution_count": 3,
      "outputs": [
        {
          "output_type": "execute_result",
          "data": {
            "text/plain": [
              "               hotel  is_canceled  lead_time  arrival_date_year  \\\n",
              "0       Resort Hotel            0        342               2015   \n",
              "1       Resort Hotel            0        737               2015   \n",
              "2       Resort Hotel            0          7               2015   \n",
              "3       Resort Hotel            0         13               2015   \n",
              "4       Resort Hotel            0         14               2015   \n",
              "...              ...          ...        ...                ...   \n",
              "119385    City Hotel            0         23               2017   \n",
              "119386    City Hotel            0        102               2017   \n",
              "119387    City Hotel            0         34               2017   \n",
              "119388    City Hotel            0        109               2017   \n",
              "119389    City Hotel            0        205               2017   \n",
              "\n",
              "       arrival_date_month  arrival_date_week_number  \\\n",
              "0                    July                        27   \n",
              "1                    July                        27   \n",
              "2                    July                        27   \n",
              "3                    July                        27   \n",
              "4                    July                        27   \n",
              "...                   ...                       ...   \n",
              "119385             August                        35   \n",
              "119386             August                        35   \n",
              "119387             August                        35   \n",
              "119388             August                        35   \n",
              "119389             August                        35   \n",
              "\n",
              "        arrival_date_day_of_month  stays_in_weekend_nights  \\\n",
              "0                               1                        0   \n",
              "1                               1                        0   \n",
              "2                               1                        0   \n",
              "3                               1                        0   \n",
              "4                               1                        0   \n",
              "...                           ...                      ...   \n",
              "119385                         30                        2   \n",
              "119386                         31                        2   \n",
              "119387                         31                        2   \n",
              "119388                         31                        2   \n",
              "119389                         29                        2   \n",
              "\n",
              "        stays_in_week_nights  adults  ...  deposit_type  agent company  \\\n",
              "0                          0       2  ...    No Deposit    NaN     NaN   \n",
              "1                          0       2  ...    No Deposit    NaN     NaN   \n",
              "2                          1       1  ...    No Deposit    NaN     NaN   \n",
              "3                          1       1  ...    No Deposit  304.0     NaN   \n",
              "4                          2       2  ...    No Deposit  240.0     NaN   \n",
              "...                      ...     ...  ...           ...    ...     ...   \n",
              "119385                     5       2  ...    No Deposit  394.0     NaN   \n",
              "119386                     5       3  ...    No Deposit    9.0     NaN   \n",
              "119387                     5       2  ...    No Deposit    9.0     NaN   \n",
              "119388                     5       2  ...    No Deposit   89.0     NaN   \n",
              "119389                     7       2  ...    No Deposit    9.0     NaN   \n",
              "\n",
              "       days_in_waiting_list customer_type     adr  \\\n",
              "0                         0     Transient    0.00   \n",
              "1                         0     Transient    0.00   \n",
              "2                         0     Transient   75.00   \n",
              "3                         0     Transient   75.00   \n",
              "4                         0     Transient   98.00   \n",
              "...                     ...           ...     ...   \n",
              "119385                    0     Transient   96.14   \n",
              "119386                    0     Transient  225.43   \n",
              "119387                    0     Transient  157.71   \n",
              "119388                    0     Transient  104.40   \n",
              "119389                    0     Transient  151.20   \n",
              "\n",
              "        required_car_parking_spaces  total_of_special_requests  \\\n",
              "0                                 0                          0   \n",
              "1                                 0                          0   \n",
              "2                                 0                          0   \n",
              "3                                 0                          0   \n",
              "4                                 0                          1   \n",
              "...                             ...                        ...   \n",
              "119385                            0                          0   \n",
              "119386                            0                          2   \n",
              "119387                            0                          4   \n",
              "119388                            0                          0   \n",
              "119389                            0                          2   \n",
              "\n",
              "        reservation_status reservation_status_date  \n",
              "0                Check-Out              2015-07-01  \n",
              "1                Check-Out              2015-07-01  \n",
              "2                Check-Out              2015-07-02  \n",
              "3                Check-Out              2015-07-02  \n",
              "4                Check-Out              2015-07-03  \n",
              "...                    ...                     ...  \n",
              "119385           Check-Out              2017-09-06  \n",
              "119386           Check-Out              2017-09-07  \n",
              "119387           Check-Out              2017-09-07  \n",
              "119388           Check-Out              2017-09-07  \n",
              "119389           Check-Out              2017-09-07  \n",
              "\n",
              "[119390 rows x 32 columns]"
            ],
            "text/html": [
              "\n",
              "  <div id=\"df-d0a5e651-fd68-46b4-98e9-a5015eb76dec\">\n",
              "    <div class=\"colab-df-container\">\n",
              "      <div>\n",
              "<style scoped>\n",
              "    .dataframe tbody tr th:only-of-type {\n",
              "        vertical-align: middle;\n",
              "    }\n",
              "\n",
              "    .dataframe tbody tr th {\n",
              "        vertical-align: top;\n",
              "    }\n",
              "\n",
              "    .dataframe thead th {\n",
              "        text-align: right;\n",
              "    }\n",
              "</style>\n",
              "<table border=\"1\" class=\"dataframe\">\n",
              "  <thead>\n",
              "    <tr style=\"text-align: right;\">\n",
              "      <th></th>\n",
              "      <th>hotel</th>\n",
              "      <th>is_canceled</th>\n",
              "      <th>lead_time</th>\n",
              "      <th>arrival_date_year</th>\n",
              "      <th>arrival_date_month</th>\n",
              "      <th>arrival_date_week_number</th>\n",
              "      <th>arrival_date_day_of_month</th>\n",
              "      <th>stays_in_weekend_nights</th>\n",
              "      <th>stays_in_week_nights</th>\n",
              "      <th>adults</th>\n",
              "      <th>...</th>\n",
              "      <th>deposit_type</th>\n",
              "      <th>agent</th>\n",
              "      <th>company</th>\n",
              "      <th>days_in_waiting_list</th>\n",
              "      <th>customer_type</th>\n",
              "      <th>adr</th>\n",
              "      <th>required_car_parking_spaces</th>\n",
              "      <th>total_of_special_requests</th>\n",
              "      <th>reservation_status</th>\n",
              "      <th>reservation_status_date</th>\n",
              "    </tr>\n",
              "  </thead>\n",
              "  <tbody>\n",
              "    <tr>\n",
              "      <th>0</th>\n",
              "      <td>Resort Hotel</td>\n",
              "      <td>0</td>\n",
              "      <td>342</td>\n",
              "      <td>2015</td>\n",
              "      <td>July</td>\n",
              "      <td>27</td>\n",
              "      <td>1</td>\n",
              "      <td>0</td>\n",
              "      <td>0</td>\n",
              "      <td>2</td>\n",
              "      <td>...</td>\n",
              "      <td>No Deposit</td>\n",
              "      <td>NaN</td>\n",
              "      <td>NaN</td>\n",
              "      <td>0</td>\n",
              "      <td>Transient</td>\n",
              "      <td>0.00</td>\n",
              "      <td>0</td>\n",
              "      <td>0</td>\n",
              "      <td>Check-Out</td>\n",
              "      <td>2015-07-01</td>\n",
              "    </tr>\n",
              "    <tr>\n",
              "      <th>1</th>\n",
              "      <td>Resort Hotel</td>\n",
              "      <td>0</td>\n",
              "      <td>737</td>\n",
              "      <td>2015</td>\n",
              "      <td>July</td>\n",
              "      <td>27</td>\n",
              "      <td>1</td>\n",
              "      <td>0</td>\n",
              "      <td>0</td>\n",
              "      <td>2</td>\n",
              "      <td>...</td>\n",
              "      <td>No Deposit</td>\n",
              "      <td>NaN</td>\n",
              "      <td>NaN</td>\n",
              "      <td>0</td>\n",
              "      <td>Transient</td>\n",
              "      <td>0.00</td>\n",
              "      <td>0</td>\n",
              "      <td>0</td>\n",
              "      <td>Check-Out</td>\n",
              "      <td>2015-07-01</td>\n",
              "    </tr>\n",
              "    <tr>\n",
              "      <th>2</th>\n",
              "      <td>Resort Hotel</td>\n",
              "      <td>0</td>\n",
              "      <td>7</td>\n",
              "      <td>2015</td>\n",
              "      <td>July</td>\n",
              "      <td>27</td>\n",
              "      <td>1</td>\n",
              "      <td>0</td>\n",
              "      <td>1</td>\n",
              "      <td>1</td>\n",
              "      <td>...</td>\n",
              "      <td>No Deposit</td>\n",
              "      <td>NaN</td>\n",
              "      <td>NaN</td>\n",
              "      <td>0</td>\n",
              "      <td>Transient</td>\n",
              "      <td>75.00</td>\n",
              "      <td>0</td>\n",
              "      <td>0</td>\n",
              "      <td>Check-Out</td>\n",
              "      <td>2015-07-02</td>\n",
              "    </tr>\n",
              "    <tr>\n",
              "      <th>3</th>\n",
              "      <td>Resort Hotel</td>\n",
              "      <td>0</td>\n",
              "      <td>13</td>\n",
              "      <td>2015</td>\n",
              "      <td>July</td>\n",
              "      <td>27</td>\n",
              "      <td>1</td>\n",
              "      <td>0</td>\n",
              "      <td>1</td>\n",
              "      <td>1</td>\n",
              "      <td>...</td>\n",
              "      <td>No Deposit</td>\n",
              "      <td>304.0</td>\n",
              "      <td>NaN</td>\n",
              "      <td>0</td>\n",
              "      <td>Transient</td>\n",
              "      <td>75.00</td>\n",
              "      <td>0</td>\n",
              "      <td>0</td>\n",
              "      <td>Check-Out</td>\n",
              "      <td>2015-07-02</td>\n",
              "    </tr>\n",
              "    <tr>\n",
              "      <th>4</th>\n",
              "      <td>Resort Hotel</td>\n",
              "      <td>0</td>\n",
              "      <td>14</td>\n",
              "      <td>2015</td>\n",
              "      <td>July</td>\n",
              "      <td>27</td>\n",
              "      <td>1</td>\n",
              "      <td>0</td>\n",
              "      <td>2</td>\n",
              "      <td>2</td>\n",
              "      <td>...</td>\n",
              "      <td>No Deposit</td>\n",
              "      <td>240.0</td>\n",
              "      <td>NaN</td>\n",
              "      <td>0</td>\n",
              "      <td>Transient</td>\n",
              "      <td>98.00</td>\n",
              "      <td>0</td>\n",
              "      <td>1</td>\n",
              "      <td>Check-Out</td>\n",
              "      <td>2015-07-03</td>\n",
              "    </tr>\n",
              "    <tr>\n",
              "      <th>...</th>\n",
              "      <td>...</td>\n",
              "      <td>...</td>\n",
              "      <td>...</td>\n",
              "      <td>...</td>\n",
              "      <td>...</td>\n",
              "      <td>...</td>\n",
              "      <td>...</td>\n",
              "      <td>...</td>\n",
              "      <td>...</td>\n",
              "      <td>...</td>\n",
              "      <td>...</td>\n",
              "      <td>...</td>\n",
              "      <td>...</td>\n",
              "      <td>...</td>\n",
              "      <td>...</td>\n",
              "      <td>...</td>\n",
              "      <td>...</td>\n",
              "      <td>...</td>\n",
              "      <td>...</td>\n",
              "      <td>...</td>\n",
              "      <td>...</td>\n",
              "    </tr>\n",
              "    <tr>\n",
              "      <th>119385</th>\n",
              "      <td>City Hotel</td>\n",
              "      <td>0</td>\n",
              "      <td>23</td>\n",
              "      <td>2017</td>\n",
              "      <td>August</td>\n",
              "      <td>35</td>\n",
              "      <td>30</td>\n",
              "      <td>2</td>\n",
              "      <td>5</td>\n",
              "      <td>2</td>\n",
              "      <td>...</td>\n",
              "      <td>No Deposit</td>\n",
              "      <td>394.0</td>\n",
              "      <td>NaN</td>\n",
              "      <td>0</td>\n",
              "      <td>Transient</td>\n",
              "      <td>96.14</td>\n",
              "      <td>0</td>\n",
              "      <td>0</td>\n",
              "      <td>Check-Out</td>\n",
              "      <td>2017-09-06</td>\n",
              "    </tr>\n",
              "    <tr>\n",
              "      <th>119386</th>\n",
              "      <td>City Hotel</td>\n",
              "      <td>0</td>\n",
              "      <td>102</td>\n",
              "      <td>2017</td>\n",
              "      <td>August</td>\n",
              "      <td>35</td>\n",
              "      <td>31</td>\n",
              "      <td>2</td>\n",
              "      <td>5</td>\n",
              "      <td>3</td>\n",
              "      <td>...</td>\n",
              "      <td>No Deposit</td>\n",
              "      <td>9.0</td>\n",
              "      <td>NaN</td>\n",
              "      <td>0</td>\n",
              "      <td>Transient</td>\n",
              "      <td>225.43</td>\n",
              "      <td>0</td>\n",
              "      <td>2</td>\n",
              "      <td>Check-Out</td>\n",
              "      <td>2017-09-07</td>\n",
              "    </tr>\n",
              "    <tr>\n",
              "      <th>119387</th>\n",
              "      <td>City Hotel</td>\n",
              "      <td>0</td>\n",
              "      <td>34</td>\n",
              "      <td>2017</td>\n",
              "      <td>August</td>\n",
              "      <td>35</td>\n",
              "      <td>31</td>\n",
              "      <td>2</td>\n",
              "      <td>5</td>\n",
              "      <td>2</td>\n",
              "      <td>...</td>\n",
              "      <td>No Deposit</td>\n",
              "      <td>9.0</td>\n",
              "      <td>NaN</td>\n",
              "      <td>0</td>\n",
              "      <td>Transient</td>\n",
              "      <td>157.71</td>\n",
              "      <td>0</td>\n",
              "      <td>4</td>\n",
              "      <td>Check-Out</td>\n",
              "      <td>2017-09-07</td>\n",
              "    </tr>\n",
              "    <tr>\n",
              "      <th>119388</th>\n",
              "      <td>City Hotel</td>\n",
              "      <td>0</td>\n",
              "      <td>109</td>\n",
              "      <td>2017</td>\n",
              "      <td>August</td>\n",
              "      <td>35</td>\n",
              "      <td>31</td>\n",
              "      <td>2</td>\n",
              "      <td>5</td>\n",
              "      <td>2</td>\n",
              "      <td>...</td>\n",
              "      <td>No Deposit</td>\n",
              "      <td>89.0</td>\n",
              "      <td>NaN</td>\n",
              "      <td>0</td>\n",
              "      <td>Transient</td>\n",
              "      <td>104.40</td>\n",
              "      <td>0</td>\n",
              "      <td>0</td>\n",
              "      <td>Check-Out</td>\n",
              "      <td>2017-09-07</td>\n",
              "    </tr>\n",
              "    <tr>\n",
              "      <th>119389</th>\n",
              "      <td>City Hotel</td>\n",
              "      <td>0</td>\n",
              "      <td>205</td>\n",
              "      <td>2017</td>\n",
              "      <td>August</td>\n",
              "      <td>35</td>\n",
              "      <td>29</td>\n",
              "      <td>2</td>\n",
              "      <td>7</td>\n",
              "      <td>2</td>\n",
              "      <td>...</td>\n",
              "      <td>No Deposit</td>\n",
              "      <td>9.0</td>\n",
              "      <td>NaN</td>\n",
              "      <td>0</td>\n",
              "      <td>Transient</td>\n",
              "      <td>151.20</td>\n",
              "      <td>0</td>\n",
              "      <td>2</td>\n",
              "      <td>Check-Out</td>\n",
              "      <td>2017-09-07</td>\n",
              "    </tr>\n",
              "  </tbody>\n",
              "</table>\n",
              "<p>119390 rows × 32 columns</p>\n",
              "</div>\n",
              "      <button class=\"colab-df-convert\" onclick=\"convertToInteractive('df-d0a5e651-fd68-46b4-98e9-a5015eb76dec')\"\n",
              "              title=\"Convert this dataframe to an interactive table.\"\n",
              "              style=\"display:none;\">\n",
              "        \n",
              "  <svg xmlns=\"http://www.w3.org/2000/svg\" height=\"24px\"viewBox=\"0 0 24 24\"\n",
              "       width=\"24px\">\n",
              "    <path d=\"M0 0h24v24H0V0z\" fill=\"none\"/>\n",
              "    <path d=\"M18.56 5.44l.94 2.06.94-2.06 2.06-.94-2.06-.94-.94-2.06-.94 2.06-2.06.94zm-11 1L8.5 8.5l.94-2.06 2.06-.94-2.06-.94L8.5 2.5l-.94 2.06-2.06.94zm10 10l.94 2.06.94-2.06 2.06-.94-2.06-.94-.94-2.06-.94 2.06-2.06.94z\"/><path d=\"M17.41 7.96l-1.37-1.37c-.4-.4-.92-.59-1.43-.59-.52 0-1.04.2-1.43.59L10.3 9.45l-7.72 7.72c-.78.78-.78 2.05 0 2.83L4 21.41c.39.39.9.59 1.41.59.51 0 1.02-.2 1.41-.59l7.78-7.78 2.81-2.81c.8-.78.8-2.07 0-2.86zM5.41 20L4 18.59l7.72-7.72 1.47 1.35L5.41 20z\"/>\n",
              "  </svg>\n",
              "      </button>\n",
              "      \n",
              "  <style>\n",
              "    .colab-df-container {\n",
              "      display:flex;\n",
              "      flex-wrap:wrap;\n",
              "      gap: 12px;\n",
              "    }\n",
              "\n",
              "    .colab-df-convert {\n",
              "      background-color: #E8F0FE;\n",
              "      border: none;\n",
              "      border-radius: 50%;\n",
              "      cursor: pointer;\n",
              "      display: none;\n",
              "      fill: #1967D2;\n",
              "      height: 32px;\n",
              "      padding: 0 0 0 0;\n",
              "      width: 32px;\n",
              "    }\n",
              "\n",
              "    .colab-df-convert:hover {\n",
              "      background-color: #E2EBFA;\n",
              "      box-shadow: 0px 1px 2px rgba(60, 64, 67, 0.3), 0px 1px 3px 1px rgba(60, 64, 67, 0.15);\n",
              "      fill: #174EA6;\n",
              "    }\n",
              "\n",
              "    [theme=dark] .colab-df-convert {\n",
              "      background-color: #3B4455;\n",
              "      fill: #D2E3FC;\n",
              "    }\n",
              "\n",
              "    [theme=dark] .colab-df-convert:hover {\n",
              "      background-color: #434B5C;\n",
              "      box-shadow: 0px 1px 3px 1px rgba(0, 0, 0, 0.15);\n",
              "      filter: drop-shadow(0px 1px 2px rgba(0, 0, 0, 0.3));\n",
              "      fill: #FFFFFF;\n",
              "    }\n",
              "  </style>\n",
              "\n",
              "      <script>\n",
              "        const buttonEl =\n",
              "          document.querySelector('#df-d0a5e651-fd68-46b4-98e9-a5015eb76dec button.colab-df-convert');\n",
              "        buttonEl.style.display =\n",
              "          google.colab.kernel.accessAllowed ? 'block' : 'none';\n",
              "\n",
              "        async function convertToInteractive(key) {\n",
              "          const element = document.querySelector('#df-d0a5e651-fd68-46b4-98e9-a5015eb76dec');\n",
              "          const dataTable =\n",
              "            await google.colab.kernel.invokeFunction('convertToInteractive',\n",
              "                                                     [key], {});\n",
              "          if (!dataTable) return;\n",
              "\n",
              "          const docLinkHtml = 'Like what you see? Visit the ' +\n",
              "            '<a target=\"_blank\" href=https://colab.research.google.com/notebooks/data_table.ipynb>data table notebook</a>'\n",
              "            + ' to learn more about interactive tables.';\n",
              "          element.innerHTML = '';\n",
              "          dataTable['output_type'] = 'display_data';\n",
              "          await google.colab.output.renderOutput(dataTable, element);\n",
              "          const docLink = document.createElement('div');\n",
              "          docLink.innerHTML = docLinkHtml;\n",
              "          element.appendChild(docLink);\n",
              "        }\n",
              "      </script>\n",
              "    </div>\n",
              "  </div>\n",
              "  "
            ]
          },
          "metadata": {},
          "execution_count": 3
        }
      ]
    },
    {
      "cell_type": "code",
      "source": [
        "#### Rows and column count of dataset\n",
        "df.shape"
      ],
      "metadata": {
        "colab": {
          "base_uri": "https://localhost:8080/"
        },
        "id": "FsNCCapHcxzE",
        "outputId": "8abe8214-46a0-4d04-b45f-1031bfdab48d"
      },
      "execution_count": 4,
      "outputs": [
        {
          "output_type": "execute_result",
          "data": {
            "text/plain": [
              "(119390, 32)"
            ]
          },
          "metadata": {},
          "execution_count": 4
        }
      ]
    },
    {
      "cell_type": "code",
      "source": [
        "### Dataset complete information\n",
        "df.info()"
      ],
      "metadata": {
        "colab": {
          "base_uri": "https://localhost:8080/"
        },
        "id": "KUXPHc0scx2w",
        "outputId": "891bfb82-bba8-4814-e2f3-a30e3b4bf845"
      },
      "execution_count": 5,
      "outputs": [
        {
          "output_type": "stream",
          "name": "stdout",
          "text": [
            "<class 'pandas.core.frame.DataFrame'>\n",
            "RangeIndex: 119390 entries, 0 to 119389\n",
            "Data columns (total 32 columns):\n",
            " #   Column                          Non-Null Count   Dtype  \n",
            "---  ------                          --------------   -----  \n",
            " 0   hotel                           119390 non-null  object \n",
            " 1   is_canceled                     119390 non-null  int64  \n",
            " 2   lead_time                       119390 non-null  int64  \n",
            " 3   arrival_date_year               119390 non-null  int64  \n",
            " 4   arrival_date_month              119390 non-null  object \n",
            " 5   arrival_date_week_number        119390 non-null  int64  \n",
            " 6   arrival_date_day_of_month       119390 non-null  int64  \n",
            " 7   stays_in_weekend_nights         119390 non-null  int64  \n",
            " 8   stays_in_week_nights            119390 non-null  int64  \n",
            " 9   adults                          119390 non-null  int64  \n",
            " 10  children                        119386 non-null  float64\n",
            " 11  babies                          119390 non-null  int64  \n",
            " 12  meal                            119390 non-null  object \n",
            " 13  country                         118902 non-null  object \n",
            " 14  market_segment                  119390 non-null  object \n",
            " 15  distribution_channel            119390 non-null  object \n",
            " 16  is_repeated_guest               119390 non-null  int64  \n",
            " 17  previous_cancellations          119390 non-null  int64  \n",
            " 18  previous_bookings_not_canceled  119390 non-null  int64  \n",
            " 19  reserved_room_type              119390 non-null  object \n",
            " 20  assigned_room_type              119390 non-null  object \n",
            " 21  booking_changes                 119390 non-null  int64  \n",
            " 22  deposit_type                    119390 non-null  object \n",
            " 23  agent                           103050 non-null  float64\n",
            " 24  company                         6797 non-null    float64\n",
            " 25  days_in_waiting_list            119390 non-null  int64  \n",
            " 26  customer_type                   119390 non-null  object \n",
            " 27  adr                             119390 non-null  float64\n",
            " 28  required_car_parking_spaces     119390 non-null  int64  \n",
            " 29  total_of_special_requests       119390 non-null  int64  \n",
            " 30  reservation_status              119390 non-null  object \n",
            " 31  reservation_status_date         119390 non-null  object \n",
            "dtypes: float64(4), int64(16), object(12)\n",
            "memory usage: 29.1+ MB\n"
          ]
        }
      ]
    },
    {
      "cell_type": "markdown",
      "source": [
        "#### Duplicate Values"
      ],
      "metadata": {
        "id": "PrzYBVAFxof1"
      }
    },
    {
      "cell_type": "code",
      "source": [
        "### counting the no.of duplicated rows in the dataset\n",
        "df.duplicated().sum() "
      ],
      "metadata": {
        "colab": {
          "base_uri": "https://localhost:8080/"
        },
        "id": "WT1HQ_X4vxCv",
        "outputId": "f2dc111a-cb25-4a5e-efcd-923d284022c4"
      },
      "execution_count": 6,
      "outputs": [
        {
          "output_type": "execute_result",
          "data": {
            "text/plain": [
              "31994"
            ]
          },
          "metadata": {},
          "execution_count": 6
        }
      ]
    },
    {
      "cell_type": "code",
      "source": [
        "###Deleting the duplicated rows because they are of no use and also no.of duplicatedrows are very high\n",
        "df.drop_duplicates(inplace= True)"
      ],
      "metadata": {
        "id": "Pfjt4pPavxGw"
      },
      "execution_count": 7,
      "outputs": []
    },
    {
      "cell_type": "code",
      "source": [
        "##checking the shape of dataset after deleting duplicates\n",
        "df.shape"
      ],
      "metadata": {
        "colab": {
          "base_uri": "https://localhost:8080/"
        },
        "id": "kbt_W6mMvxM4",
        "outputId": "0f95065e-e32b-48a1-be53-86b6924d4e57"
      },
      "execution_count": 8,
      "outputs": [
        {
          "output_type": "execute_result",
          "data": {
            "text/plain": [
              "(87396, 32)"
            ]
          },
          "metadata": {},
          "execution_count": 8
        }
      ]
    },
    {
      "cell_type": "markdown",
      "source": [
        "#### Missing values/ Null values"
      ],
      "metadata": {
        "id": "gW3pT5vrxvYE"
      }
    },
    {
      "cell_type": "code",
      "source": [
        "# Missing Values/Null Values Count\n",
        "null_values=df.isnull().sum().sort_values(ascending=False)\n",
        "null_values[:10]"
      ],
      "metadata": {
        "colab": {
          "base_uri": "https://localhost:8080/"
        },
        "id": "vQiNyz7zvxRU",
        "outputId": "b9d5a5ff-96a9-43f2-d52c-fe904d006f13"
      },
      "execution_count": 9,
      "outputs": [
        {
          "output_type": "execute_result",
          "data": {
            "text/plain": [
              "company                   82137\n",
              "agent                     12193\n",
              "country                     452\n",
              "children                      4\n",
              "reserved_room_type            0\n",
              "assigned_room_type            0\n",
              "booking_changes               0\n",
              "deposit_type                  0\n",
              "hotel                         0\n",
              "previous_cancellations        0\n",
              "dtype: int64"
            ]
          },
          "metadata": {},
          "execution_count": 9
        }
      ]
    },
    {
      "cell_type": "code",
      "source": [
        "# Visualizing the missing values\n",
        "features = list(null_values.keys())\n",
        "missing_values_counts = list(null_values.values)\n",
        "  \n",
        "fig = plt.figure(figsize = (12,6 ))\n",
        " \n",
        "# creating the bar plot\n",
        "plt.bar(features, missing_values_counts, color ='maroon',\n",
        "        width = 0.7)\n",
        "plt.xlabel(\"Features\")\n",
        "plt.ylabel(\"Count of null values\")\n",
        "plt.title(\"Missing values visualization\")\n",
        "plt.xticks(features, features, rotation='vertical')\n",
        "plt.show()"
      ],
      "metadata": {
        "colab": {
          "base_uri": "https://localhost:8080/",
          "height": 558
        },
        "id": "5SGNgqIevxhI",
        "outputId": "8f5a9c7a-adbb-403e-e320-5f012aa9e22e"
      },
      "execution_count": 10,
      "outputs": [
        {
          "output_type": "display_data",
          "data": {
            "text/plain": [
              "<Figure size 864x432 with 1 Axes>"
            ],
            "image/png": "[encoded data removed]"
          },
          "metadata": {
            "needs_background": "light"
          }
        }
      ]
    },
    {
      "cell_type": "markdown",
      "source": [
        "### What did you know about your dataset?"
      ],
      "metadata": {
        "id": "nMO32uCYadnp"
      }
    },
    {
      "cell_type": "markdown",
      "source": [
        "We see that there are 32 columns in the dataframe and some columns like 'children', 'company', 'country' and 'agent' have null values."
      ],
      "metadata": {
        "id": "BejG41QGgmH4"
      }
    },
    {
      "cell_type": "markdown",
      "source": [
        "This data set contains booking information for a city hotel and a resort hotel and includes information such as when the booking was made, length of stay, the number of adults, children, and/or babies, and the number of available parking spaces, among other things."
      ],
      "metadata": {
        "id": "oCd3_UNfahj_"
      }
    },
    {
      "cell_type": "markdown",
      "source": [
        "## ***2. Understanding Your Variables***"
      ],
      "metadata": {
        "id": "Obr5URQJfJ8S"
      }
    },
    {
      "cell_type": "code",
      "source": [
        "# Dataset Columns\n",
        "df.columns"
      ],
      "metadata": {
        "id": "f0Iu08nA-hXU",
        "colab": {
          "base_uri": "https://localhost:8080/"
        },
        "outputId": "3d961784-7746-466f-c054-1816f43160c4"
      },
      "execution_count": 11,
      "outputs": [
        {
          "output_type": "execute_result",
          "data": {
            "text/plain": [
              "Index(['hotel', 'is_canceled', 'lead_time', 'arrival_date_year',\n",
              "       'arrival_date_month', 'arrival_date_week_number',\n",
              "       'arrival_date_day_of_month', 'stays_in_weekend_nights',\n",
              "       'stays_in_week_nights', 'adults', 'children', 'babies', 'meal',\n",
              "       'country', 'market_segment', 'distribution_channel',\n",
              "       'is_repeated_guest', 'previous_cancellations',\n",
              "       'previous_bookings_not_canceled', 'reserved_room_type',\n",
              "       'assigned_room_type', 'booking_changes', 'deposit_type', 'agent',\n",
              "       'company', 'days_in_waiting_list', 'customer_type', 'adr',\n",
              "       'required_car_parking_spaces', 'total_of_special_requests',\n",
              "       'reservation_status', 'reservation_status_date'],\n",
              "      dtype='object')"
            ]
          },
          "metadata": {},
          "execution_count": 11
        }
      ]
    },
    {
      "cell_type": "code",
      "source": [
        "# Dataset Describe\n",
        "df.describe()"
      ],
      "metadata": {
        "colab": {
          "base_uri": "https://localhost:8080/",
          "height": 364
        },
        "id": "joNnwaIBYJhP",
        "outputId": "3e2f50de-6af7-45d8-ec83-5a52c67b7669"
      },
      "execution_count": 12,
      "outputs": [
        {
          "output_type": "execute_result",
          "data": {
            "text/plain": [
              "        is_canceled     lead_time  arrival_date_year  \\\n",
              "count  87396.000000  87396.000000       87396.000000   \n",
              "mean       0.274898     79.891368        2016.210296   \n",
              "std        0.446466     86.052325           0.686102   \n",
              "min        0.000000      0.000000        2015.000000   \n",
              "25%        0.000000     11.000000        2016.000000   \n",
              "50%        0.000000     49.000000        2016.000000   \n",
              "75%        1.000000    125.000000        2017.000000   \n",
              "max        1.000000    737.000000        2017.000000   \n",
              "\n",
              "       arrival_date_week_number  arrival_date_day_of_month  \\\n",
              "count              87396.000000               87396.000000   \n",
              "mean                  26.838334                  15.815541   \n",
              "std                   13.674572                   8.835146   \n",
              "min                    1.000000                   1.000000   \n",
              "25%                   16.000000                   8.000000   \n",
              "50%                   27.000000                  16.000000   \n",
              "75%                   37.000000                  23.000000   \n",
              "max                   53.000000                  31.000000   \n",
              "\n",
              "       stays_in_weekend_nights  stays_in_week_nights        adults  \\\n",
              "count             87396.000000          87396.000000  87396.000000   \n",
              "mean                  1.005263              2.625395      1.875795   \n",
              "std                   1.031921              2.053584      0.626500   \n",
              "min                   0.000000              0.000000      0.000000   \n",
              "25%                   0.000000              1.000000      2.000000   \n",
              "50%                   1.000000              2.000000      2.000000   \n",
              "75%                   2.000000              4.000000      2.000000   \n",
              "max                  19.000000             50.000000     55.000000   \n",
              "\n",
              "           children        babies  is_repeated_guest  previous_cancellations  \\\n",
              "count  87392.000000  87396.000000       87396.000000            87396.000000   \n",
              "mean       0.138640      0.010824           0.039075                0.030413   \n",
              "std        0.455881      0.113597           0.193775                0.369145   \n",
              "min        0.000000      0.000000           0.000000                0.000000   \n",
              "25%        0.000000      0.000000           0.000000                0.000000   \n",
              "50%        0.000000      0.000000           0.000000                0.000000   \n",
              "75%        0.000000      0.000000           0.000000                0.000000   \n",
              "max       10.000000     10.000000           1.000000               26.000000   \n",
              "\n",
              "       previous_bookings_not_canceled  booking_changes         agent  \\\n",
              "count                    87396.000000     87396.000000  75203.000000   \n",
              "mean                         0.183990         0.271603     94.138306   \n",
              "std                          1.731894         0.727245    113.188172   \n",
              "min                          0.000000         0.000000      1.000000   \n",
              "25%                          0.000000         0.000000      9.000000   \n",
              "50%                          0.000000         0.000000     14.000000   \n",
              "75%                          0.000000         0.000000    240.000000   \n",
              "max                         72.000000        21.000000    535.000000   \n",
              "\n",
              "           company  days_in_waiting_list           adr  \\\n",
              "count  5259.000000          87396.000000  87396.000000   \n",
              "mean    183.081384              0.749565    106.337246   \n",
              "std     130.557608             10.015731     55.013953   \n",
              "min       6.000000              0.000000     -6.380000   \n",
              "25%      47.000000              0.000000     72.000000   \n",
              "50%     169.000000              0.000000     98.100000   \n",
              "75%     263.000000              0.000000    134.000000   \n",
              "max     543.000000            391.000000   5400.000000   \n",
              "\n",
              "       required_car_parking_spaces  total_of_special_requests  \n",
              "count                 87396.000000               87396.000000  \n",
              "mean                      0.084226                   0.698567  \n",
              "std                       0.281533                   0.831946  \n",
              "min                       0.000000                   0.000000  \n",
              "25%                       0.000000                   0.000000  \n",
              "50%                       0.000000                   0.000000  \n",
              "75%                       0.000000                   1.000000  \n",
              "max                       8.000000                   5.000000  "
            ],
            "text/html": [
              "\n",
              "  <div id=\"df-30ad5bcb-8bec-4807-bd7f-05b518d3811e\">\n",
              "    <div class=\"colab-df-container\">\n",
              "      <div>\n",
              "<style scoped>\n",
              "    .dataframe tbody tr th:only-of-type {\n",
              "        vertical-align: middle;\n",
              "    }\n",
              "\n",
              "    .dataframe tbody tr th {\n",
              "        vertical-align: top;\n",
              "    }\n",
              "\n",
              "    .dataframe thead th {\n",
              "        text-align: right;\n",
              "    }\n",
              "</style>\n",
              "<table border=\"1\" class=\"dataframe\">\n",
              "  <thead>\n",
              "    <tr style=\"text-align: right;\">\n",
              "      <th></th>\n",
              "      <th>is_canceled</th>\n",
              "      <th>lead_time</th>\n",
              "      <th>arrival_date_year</th>\n",
              "      <th>arrival_date_week_number</th>\n",
              "      <th>arrival_date_day_of_month</th>\n",
              "      <th>stays_in_weekend_nights</th>\n",
              "      <th>stays_in_week_nights</th>\n",
              "      <th>adults</th>\n",
              "      <th>children</th>\n",
              "      <th>babies</th>\n",
              "      <th>is_repeated_guest</th>\n",
              "      <th>previous_cancellations</th>\n",
              "      <th>previous_bookings_not_canceled</th>\n",
              "      <th>booking_changes</th>\n",
              "      <th>agent</th>\n",
              "      <th>company</th>\n",
              "      <th>days_in_waiting_list</th>\n",
              "      <th>adr</th>\n",
              "      <th>required_car_parking_spaces</th>\n",
              "      <th>total_of_special_requests</th>\n",
              "    </tr>\n",
              "  </thead>\n",
              "  <tbody>\n",
              "    <tr>\n",
              "      <th>count</th>\n",
              "      <td>87396.000000</td>\n",
              "      <td>87396.000000</td>\n",
              "      <td>87396.000000</td>\n",
              "      <td>87396.000000</td>\n",
              "      <td>87396.000000</td>\n",
              "      <td>87396.000000</td>\n",
              "      <td>87396.000000</td>\n",
              "      <td>87396.000000</td>\n",
              "      <td>87392.000000</td>\n",
              "      <td>87396.000000</td>\n",
              "      <td>87396.000000</td>\n",
              "      <td>87396.000000</td>\n",
              "      <td>87396.000000</td>\n",
              "      <td>87396.000000</td>\n",
              "      <td>75203.000000</td>\n",
              "      <td>5259.000000</td>\n",
              "      <td>87396.000000</td>\n",
              "      <td>87396.000000</td>\n",
              "      <td>87396.000000</td>\n",
              "      <td>87396.000000</td>\n",
              "    </tr>\n",
              "    <tr>\n",
              "      <th>mean</th>\n",
              "      <td>0.274898</td>\n",
              "      <td>79.891368</td>\n",
              "      <td>2016.210296</td>\n",
              "      <td>26.838334</td>\n",
              "      <td>15.815541</td>\n",
              "      <td>1.005263</td>\n",
              "      <td>2.625395</td>\n",
              "      <td>1.875795</td>\n",
              "      <td>0.138640</td>\n",
              "      <td>0.010824</td>\n",
              "      <td>0.039075</td>\n",
              "      <td>0.030413</td>\n",
              "      <td>0.183990</td>\n",
              "      <td>0.271603</td>\n",
              "      <td>94.138306</td>\n",
              "      <td>183.081384</td>\n",
              "      <td>0.749565</td>\n",
              "      <td>106.337246</td>\n",
              "      <td>0.084226</td>\n",
              "      <td>0.698567</td>\n",
              "    </tr>\n",
              "    <tr>\n",
              "      <th>std</th>\n",
              "      <td>0.446466</td>\n",
              "      <td>86.052325</td>\n",
              "      <td>0.686102</td>\n",
              "      <td>13.674572</td>\n",
              "      <td>8.835146</td>\n",
              "      <td>1.031921</td>\n",
              "      <td>2.053584</td>\n",
              "      <td>0.626500</td>\n",
              "      <td>0.455881</td>\n",
              "      <td>0.113597</td>\n",
              "      <td>0.193775</td>\n",
              "      <td>0.369145</td>\n",
              "      <td>1.731894</td>\n",
              "      <td>0.727245</td>\n",
              "      <td>113.188172</td>\n",
              "      <td>130.557608</td>\n",
              "      <td>10.015731</td>\n",
              "      <td>55.013953</td>\n",
              "      <td>0.281533</td>\n",
              "      <td>0.831946</td>\n",
              "    </tr>\n",
              "    <tr>\n",
              "      <th>min</th>\n",
              "      <td>0.000000</td>\n",
              "      <td>0.000000</td>\n",
              "      <td>2015.000000</td>\n",
              "      <td>1.000000</td>\n",
              "      <td>1.000000</td>\n",
              "      <td>0.000000</td>\n",
              "      <td>0.000000</td>\n",
              "      <td>0.000000</td>\n",
              "      <td>0.000000</td>\n",
              "      <td>0.000000</td>\n",
              "      <td>0.000000</td>\n",
              "      <td>0.000000</td>\n",
              "      <td>0.000000</td>\n",
              "      <td>0.000000</td>\n",
              "      <td>1.000000</td>\n",
              "      <td>6.000000</td>\n",
              "      <td>0.000000</td>\n",
              "      <td>-6.380000</td>\n",
              "      <td>0.000000</td>\n",
              "      <td>0.000000</td>\n",
              "    </tr>\n",
              "    <tr>\n",
              "      <th>25%</th>\n",
              "      <td>0.000000</td>\n",
              "      <td>11.000000</td>\n",
              "      <td>2016.000000</td>\n",
              "      <td>16.000000</td>\n",
              "      <td>8.000000</td>\n",
              "      <td>0.000000</td>\n",
              "      <td>1.000000</td>\n",
              "      <td>2.000000</td>\n",
              "      <td>0.000000</td>\n",
              "      <td>0.000000</td>\n",
              "      <td>0.000000</td>\n",
              "      <td>0.000000</td>\n",
              "      <td>0.000000</td>\n",
              "      <td>0.000000</td>\n",
              "      <td>9.000000</td>\n",
              "      <td>47.000000</td>\n",
              "      <td>0.000000</td>\n",
              "      <td>72.000000</td>\n",
              "      <td>0.000000</td>\n",
              "      <td>0.000000</td>\n",
              "    </tr>\n",
              "    <tr>\n",
              "      <th>50%</th>\n",
              "      <td>0.000000</td>\n",
              "      <td>49.000000</td>\n",
              "      <td>2016.000000</td>\n",
              "      <td>27.000000</td>\n",
              "      <td>16.000000</td>\n",
              "      <td>1.000000</td>\n",
              "      <td>2.000000</td>\n",
              "      <td>2.000000</td>\n",
              "      <td>0.000000</td>\n",
              "      <td>0.000000</td>\n",
              "      <td>0.000000</td>\n",
              "      <td>0.000000</td>\n",
              "      <td>0.000000</td>\n",
              "      <td>0.000000</td>\n",
              "      <td>14.000000</td>\n",
              "      <td>169.000000</td>\n",
              "      <td>0.000000</td>\n",
              "      <td>98.100000</td>\n",
              "      <td>0.000000</td>\n",
              "      <td>0.000000</td>\n",
              "    </tr>\n",
              "    <tr>\n",
              "      <th>75%</th>\n",
              "      <td>1.000000</td>\n",
              "      <td>125.000000</td>\n",
              "      <td>2017.000000</td>\n",
              "      <td>37.000000</td>\n",
              "      <td>23.000000</td>\n",
              "      <td>2.000000</td>\n",
              "      <td>4.000000</td>\n",
              "      <td>2.000000</td>\n",
              "      <td>0.000000</td>\n",
              "      <td>0.000000</td>\n",
              "      <td>0.000000</td>\n",
              "      <td>0.000000</td>\n",
              "      <td>0.000000</td>\n",
              "      <td>0.000000</td>\n",
              "      <td>240.000000</td>\n",
              "      <td>263.000000</td>\n",
              "      <td>0.000000</td>\n",
              "      <td>134.000000</td>\n",
              "      <td>0.000000</td>\n",
              "      <td>1.000000</td>\n",
              "    </tr>\n",
              "    <tr>\n",
              "      <th>max</th>\n",
              "      <td>1.000000</td>\n",
              "      <td>737.000000</td>\n",
              "      <td>2017.000000</td>\n",
              "      <td>53.000000</td>\n",
              "      <td>31.000000</td>\n",
              "      <td>19.000000</td>\n",
              "      <td>50.000000</td>\n",
              "      <td>55.000000</td>\n",
              "      <td>10.000000</td>\n",
              "      <td>10.000000</td>\n",
              "      <td>1.000000</td>\n",
              "      <td>26.000000</td>\n",
              "      <td>72.000000</td>\n",
              "      <td>21.000000</td>\n",
              "      <td>535.000000</td>\n",
              "      <td>543.000000</td>\n",
              "      <td>391.000000</td>\n",
              "      <td>5400.000000</td>\n",
              "      <td>8.000000</td>\n",
              "      <td>5.000000</td>\n",
              "    </tr>\n",
              "  </tbody>\n",
              "</table>\n",
              "</div>\n",
              "      <button class=\"colab-df-convert\" onclick=\"convertToInteractive('df-30ad5bcb-8bec-4807-bd7f-05b518d3811e')\"\n",
              "              title=\"Convert this dataframe to an interactive table.\"\n",
              "              style=\"display:none;\">\n",
              "        \n",
              "  <svg xmlns=\"http://www.w3.org/2000/svg\" height=\"24px\"viewBox=\"0 0 24 24\"\n",
              "       width=\"24px\">\n",
              "    <path d=\"M0 0h24v24H0V0z\" fill=\"none\"/>\n",
              "    <path d=\"M18.56 5.44l.94 2.06.94-2.06 2.06-.94-2.06-.94-.94-2.06-.94 2.06-2.06.94zm-11 1L8.5 8.5l.94-2.06 2.06-.94-2.06-.94L8.5 2.5l-.94 2.06-2.06.94zm10 10l.94 2.06.94-2.06 2.06-.94-2.06-.94-.94-2.06-.94 2.06-2.06.94z\"/><path d=\"M17.41 7.96l-1.37-1.37c-.4-.4-.92-.59-1.43-.59-.52 0-1.04.2-1.43.59L10.3 9.45l-7.72 7.72c-.78.78-.78 2.05 0 2.83L4 21.41c.39.39.9.59 1.41.59.51 0 1.02-.2 1.41-.59l7.78-7.78 2.81-2.81c.8-.78.8-2.07 0-2.86zM5.41 20L4 18.59l7.72-7.72 1.47 1.35L5.41 20z\"/>\n",
              "  </svg>\n",
              "      </button>\n",
              "      \n",
              "  <style>\n",
              "    .colab-df-container {\n",
              "      display:flex;\n",
              "      flex-wrap:wrap;\n",
              "      gap: 12px;\n",
              "    }\n",
              "\n",
              "    .colab-df-convert {\n",
              "      background-color: #E8F0FE;\n",
              "      border: none;\n",
              "      border-radius: 50%;\n",
              "      cursor: pointer;\n",
              "      display: none;\n",
              "      fill: #1967D2;\n",
              "      height: 32px;\n",
              "      padding: 0 0 0 0;\n",
              "      width: 32px;\n",
              "    }\n",
              "\n",
              "    .colab-df-convert:hover {\n",
              "      background-color: #E2EBFA;\n",
              "      box-shadow: 0px 1px 2px rgba(60, 64, 67, 0.3), 0px 1px 3px 1px rgba(60, 64, 67, 0.15);\n",
              "      fill: #174EA6;\n",
              "    }\n",
              "\n",
              "    [theme=dark] .colab-df-convert {\n",
              "      background-color: #3B4455;\n",
              "      fill: #D2E3FC;\n",
              "    }\n",
              "\n",
              "    [theme=dark] .colab-df-convert:hover {\n",
              "      background-color: #434B5C;\n",
              "      box-shadow: 0px 1px 3px 1px rgba(0, 0, 0, 0.15);\n",
              "      filter: drop-shadow(0px 1px 2px rgba(0, 0, 0, 0.3));\n",
              "      fill: #FFFFFF;\n",
              "    }\n",
              "  </style>\n",
              "\n",
              "      <script>\n",
              "        const buttonEl =\n",
              "          document.querySelector('#df-30ad5bcb-8bec-4807-bd7f-05b518d3811e button.colab-df-convert');\n",
              "        buttonEl.style.display =\n",
              "          google.colab.kernel.accessAllowed ? 'block' : 'none';\n",
              "\n",
              "        async function convertToInteractive(key) {\n",
              "          const element = document.querySelector('#df-30ad5bcb-8bec-4807-bd7f-05b518d3811e');\n",
              "          const dataTable =\n",
              "            await google.colab.kernel.invokeFunction('convertToInteractive',\n",
              "                                                     [key], {});\n",
              "          if (!dataTable) return;\n",
              "\n",
              "          const docLinkHtml = 'Like what you see? Visit the ' +\n",
              "            '<a target=\"_blank\" href=https://colab.research.google.com/notebooks/data_table.ipynb>data table notebook</a>'\n",
              "            + ' to learn more about interactive tables.';\n",
              "          element.innerHTML = '';\n",
              "          dataTable['output_type'] = 'display_data';\n",
              "          await google.colab.output.renderOutput(dataTable, element);\n",
              "          const docLink = document.createElement('div');\n",
              "          docLink.innerHTML = docLinkHtml;\n",
              "          element.appendChild(docLink);\n",
              "        }\n",
              "      </script>\n",
              "    </div>\n",
              "  </div>\n",
              "  "
            ]
          },
          "metadata": {},
          "execution_count": 12
        }
      ]
    },
    {
      "cell_type": "markdown",
      "source": [
        "### Variables Description\n",
        "First of all we will try to understand the meaning of all columns of the dataframe.\n",
        "For this we will see the unique values attained by each column whose meaning we are unable to understand."
      ],
      "metadata": {
        "id": "lj47Y1-VgO0t"
      }
    },
    {
      "cell_type": "code",
      "source": [
        "df.columns"
      ],
      "metadata": {
        "colab": {
          "base_uri": "https://localhost:8080/"
        },
        "id": "vvg2Db2-YJpY",
        "outputId": "ff120087-2683-4e30-ab43-57b3100a4315"
      },
      "execution_count": 13,
      "outputs": [
        {
          "output_type": "execute_result",
          "data": {
            "text/plain": [
              "Index(['hotel', 'is_canceled', 'lead_time', 'arrival_date_year',\n",
              "       'arrival_date_month', 'arrival_date_week_number',\n",
              "       'arrival_date_day_of_month', 'stays_in_weekend_nights',\n",
              "       'stays_in_week_nights', 'adults', 'children', 'babies', 'meal',\n",
              "       'country', 'market_segment', 'distribution_channel',\n",
              "       'is_repeated_guest', 'previous_cancellations',\n",
              "       'previous_bookings_not_canceled', 'reserved_room_type',\n",
              "       'assigned_room_type', 'booking_changes', 'deposit_type', 'agent',\n",
              "       'company', 'days_in_waiting_list', 'customer_type', 'adr',\n",
              "       'required_car_parking_spaces', 'total_of_special_requests',\n",
              "       'reservation_status', 'reservation_status_date'],\n",
              "      dtype='object')"
            ]
          },
          "metadata": {},
          "execution_count": 13
        }
      ]
    },
    {
      "cell_type": "code",
      "source": [
        "df['hotel'].unique()\n",
        "### there are two categories of hotel:- Resort Hotel and city hotel"
      ],
      "metadata": {
        "colab": {
          "base_uri": "https://localhost:8080/"
        },
        "id": "XNWtziAdYJzZ",
        "outputId": "580301eb-f44a-401f-b060-0df26be2a80a"
      },
      "execution_count": 14,
      "outputs": [
        {
          "output_type": "execute_result",
          "data": {
            "text/plain": [
              "array(['Resort Hotel', 'City Hotel'], dtype=object)"
            ]
          },
          "metadata": {},
          "execution_count": 14
        }
      ]
    },
    {
      "cell_type": "code",
      "source": [
        "df['is_canceled'].unique()\n",
        "### if the booking was cancelled(1) or not(0)"
      ],
      "metadata": {
        "colab": {
          "base_uri": "https://localhost:8080/"
        },
        "id": "IXPyOtDkYJ7F",
        "outputId": "57685d12-534d-4bda-dfa7-d7ea1e7167e4"
      },
      "execution_count": 15,
      "outputs": [
        {
          "output_type": "execute_result",
          "data": {
            "text/plain": [
              "array([0, 1])"
            ]
          },
          "metadata": {},
          "execution_count": 15
        }
      ]
    },
    {
      "cell_type": "code",
      "source": [
        "df['lead_time'].unique()\n",
        "### No of days elapsed between the entering date of the booking into the pms and arrival date"
      ],
      "metadata": {
        "colab": {
          "base_uri": "https://localhost:8080/"
        },
        "id": "kc6oD8sIYKET",
        "outputId": "8abcf2dd-dfba-41a8-d132-0e97031fb5f5"
      },
      "execution_count": 16,
      "outputs": [
        {
          "output_type": "execute_result",
          "data": {
            "text/plain": [
              "array([342, 737,   7,  13,  14,   0,   9,  85,  75,  23,  35,  68,  18,\n",
              "        37,  12,  72, 127,  78,  48,  60,  77,  99, 118,  95,  96,  69,\n",
              "        45,  40,  15,  36,  43,  70,  16, 107,  47, 113,  90,  50,  93,\n",
              "        76,   3,   1,  10,   5,  17,  51,  71,  63,  62, 101,   2,  81,\n",
              "       368, 364, 324,  79,  21, 109, 102,   4,  98,  92,  26,  73, 115,\n",
              "        86,  52,  29,  30,  33,  32,   8, 100,  44,  80,  97,  64,  39,\n",
              "        34,  27,  82,  94, 110, 111,  84,  66, 104,  28, 258, 112,  65,\n",
              "        67,  55,  88,  54, 292,  83, 105, 280, 394,  24, 103, 366, 249,\n",
              "        22,  91,  11, 108, 106,  31,  87,  41, 304, 117,  59,  53,  58,\n",
              "       116,  42, 321,  38,  56,  49, 317,   6,  57,  19,  25, 315, 123,\n",
              "        46,  89,  61, 312, 299, 130,  74, 298, 119,  20, 286, 136, 129,\n",
              "       124, 327, 131, 460, 140, 114, 139, 122, 137, 126, 120, 128, 135,\n",
              "       150, 143, 151, 132, 125, 157, 147, 138, 156, 164, 346, 159, 160,\n",
              "       161, 333, 381, 149, 154, 297, 163, 314, 155, 323, 340, 356, 142,\n",
              "       328, 144, 336, 248, 302, 175, 344, 382, 146, 170, 166, 338, 167,\n",
              "       310, 148, 165, 172, 171, 145, 121, 178, 305, 173, 152, 354, 347,\n",
              "       158, 185, 349, 183, 352, 177, 200, 192, 361, 207, 174, 330, 134,\n",
              "       350, 334, 283, 153, 197, 133, 241, 193, 235, 194, 261, 260, 216,\n",
              "       169, 209, 238, 215, 141, 189, 187, 223, 284, 214, 202, 211, 168,\n",
              "       230, 203, 188, 232, 709, 219, 162, 196, 190, 259, 228, 176, 250,\n",
              "       201, 186, 199, 180, 206, 205, 224, 222, 182, 210, 275, 212, 229,\n",
              "       218, 208, 191, 181, 179, 246, 255, 226, 288, 253, 252, 262, 236,\n",
              "       256, 234, 254, 468, 213, 237, 198, 195, 239, 263, 265, 274, 217,\n",
              "       220, 307, 221, 233, 257, 227, 276, 225, 264, 311, 277, 204, 290,\n",
              "       266, 270, 294, 319, 282, 251, 322, 291, 269, 240, 271, 184, 231,\n",
              "       268, 247, 273, 300, 301, 267, 244, 306, 293, 309, 272, 242, 295,\n",
              "       285, 243, 308, 398, 303, 245, 424, 279, 331, 281, 339, 434, 357,\n",
              "       325, 329, 278, 332, 343, 345, 360, 348, 367, 353, 373, 374, 406,\n",
              "       400, 326, 379, 399, 316, 341, 320, 385, 355, 363, 358, 296, 422,\n",
              "       390, 335, 370, 376, 375, 397, 289, 542, 403, 383, 384, 359, 393,\n",
              "       337, 362, 365, 435, 386, 378, 313, 351, 287, 471, 462, 411, 450,\n",
              "       318, 372, 371, 454, 532, 445, 389, 388, 407, 443, 437, 451, 391,\n",
              "       405, 412, 419, 420, 426, 433, 440, 429, 418, 447, 461, 605, 457,\n",
              "       475, 464, 482, 626, 489, 496, 503, 510, 517, 524, 531, 538, 545,\n",
              "       552, 559, 566, 573, 580, 587, 594, 601, 608, 615, 622, 629, 396,\n",
              "       410, 395, 423, 408, 409, 448, 465, 387, 414, 476, 479, 467, 490,\n",
              "       493, 478, 504, 507, 458, 518, 521, 377, 444, 380, 463])"
            ]
          },
          "metadata": {},
          "execution_count": 16
        }
      ]
    },
    {
      "cell_type": "code",
      "source": [
        "df['arrival_date_year'].unique()\n",
        "### year of arrival date"
      ],
      "metadata": {
        "colab": {
          "base_uri": "https://localhost:8080/"
        },
        "id": "32dCQFfqYKMX",
        "outputId": "b3bbac0c-a97a-4965-fc38-94b2ec308e8b"
      },
      "execution_count": 17,
      "outputs": [
        {
          "output_type": "execute_result",
          "data": {
            "text/plain": [
              "array([2015, 2016, 2017])"
            ]
          },
          "metadata": {},
          "execution_count": 17
        }
      ]
    },
    {
      "cell_type": "code",
      "source": [
        "df['arrival_date_month'].unique()\n",
        "### month of arrival date"
      ],
      "metadata": {
        "colab": {
          "base_uri": "https://localhost:8080/"
        },
        "id": "3LaJs4lFYKYh",
        "outputId": "8cd82ae3-9513-45f5-be5a-a1f620582faa"
      },
      "execution_count": 18,
      "outputs": [
        {
          "output_type": "execute_result",
          "data": {
            "text/plain": [
              "array(['July', 'August', 'September', 'October', 'November', 'December',\n",
              "       'January', 'February', 'March', 'April', 'May', 'June'],\n",
              "      dtype=object)"
            ]
          },
          "metadata": {},
          "execution_count": 18
        }
      ]
    },
    {
      "cell_type": "code",
      "source": [
        "df['arrival_date_week_number'].unique()\n",
        "### week number for arrival date"
      ],
      "metadata": {
        "colab": {
          "base_uri": "https://localhost:8080/"
        },
        "id": "nNFXOICSkht4",
        "outputId": "4ca63c58-975b-4ae7-9533-710a41e7138a"
      },
      "execution_count": 19,
      "outputs": [
        {
          "output_type": "execute_result",
          "data": {
            "text/plain": [
              "array([27, 28, 29, 30, 31, 32, 33, 34, 35, 36, 37, 38, 39, 40, 41, 42, 43,\n",
              "       44, 45, 46, 47, 48, 49, 50, 51, 52, 53,  1,  2,  3,  4,  5,  6,  7,\n",
              "        8,  9, 10, 11, 12, 13, 14, 15, 16, 17, 18, 19, 20, 21, 22, 23, 24,\n",
              "       25, 26])"
            ]
          },
          "metadata": {},
          "execution_count": 19
        }
      ]
    },
    {
      "cell_type": "code",
      "source": [
        "df['arrival_date_day_of_month'].unique()\n",
        "###day of arrival date"
      ],
      "metadata": {
        "colab": {
          "base_uri": "https://localhost:8080/"
        },
        "id": "OfXp4mRSkukQ",
        "outputId": "b7c2b281-b21f-44d3-8c31-39bbd06b04ca"
      },
      "execution_count": 20,
      "outputs": [
        {
          "output_type": "execute_result",
          "data": {
            "text/plain": [
              "array([ 1,  2,  3,  4,  5,  6,  7,  8,  9, 10, 11, 12, 13, 14, 15, 16, 17,\n",
              "       18, 19, 20, 21, 22, 23, 24, 25, 26, 27, 28, 29, 30, 31])"
            ]
          },
          "metadata": {},
          "execution_count": 20
        }
      ]
    },
    {
      "cell_type": "code",
      "source": [
        "df['stays_in_weekend_nights'].unique()\n",
        "###number of weekend nights(saturday,sunday) the guest booked to stay"
      ],
      "metadata": {
        "colab": {
          "base_uri": "https://localhost:8080/"
        },
        "id": "XrZnO5AMk_DD",
        "outputId": "7f97ff99-f755-4edd-ac55-6cdb1c976e34"
      },
      "execution_count": 21,
      "outputs": [
        {
          "output_type": "execute_result",
          "data": {
            "text/plain": [
              "array([ 0,  1,  2,  4,  3,  6, 13,  8,  5,  7, 12,  9, 16, 18, 19, 10, 14])"
            ]
          },
          "metadata": {},
          "execution_count": 21
        }
      ]
    },
    {
      "cell_type": "code",
      "source": [
        "df['stays_in_week_nights'].unique()\n",
        "##the no of weeknights (monday to friday) the guest booked to stay"
      ],
      "metadata": {
        "colab": {
          "base_uri": "https://localhost:8080/"
        },
        "id": "1THQ8-oWmjVc",
        "outputId": "b3c8a54c-6734-4bea-b537-1b8e68f4474c"
      },
      "execution_count": 22,
      "outputs": [
        {
          "output_type": "execute_result",
          "data": {
            "text/plain": [
              "array([ 0,  1,  2,  3,  4,  5, 10, 11,  8,  6,  7, 15,  9, 12, 33, 20, 14,\n",
              "       16, 21, 13, 30, 19, 24, 40, 22, 42, 50, 25, 17, 32, 26, 18, 34, 35,\n",
              "       41])"
            ]
          },
          "metadata": {},
          "execution_count": 22
        }
      ]
    },
    {
      "cell_type": "code",
      "source": [
        "df['adults'].unique()\n",
        "###the no of adults "
      ],
      "metadata": {
        "colab": {
          "base_uri": "https://localhost:8080/"
        },
        "id": "62dBZlYNnfhM",
        "outputId": "21f0db7f-4faf-4761-9d62-1510b3fdb1fe"
      },
      "execution_count": 23,
      "outputs": [
        {
          "output_type": "execute_result",
          "data": {
            "text/plain": [
              "array([ 2,  1,  3,  4, 40, 26, 50, 27, 55,  0, 20,  6,  5, 10])"
            ]
          },
          "metadata": {},
          "execution_count": 23
        }
      ]
    },
    {
      "cell_type": "code",
      "source": [
        "df['children'].unique()\n",
        "###the no of babies "
      ],
      "metadata": {
        "colab": {
          "base_uri": "https://localhost:8080/"
        },
        "id": "plDXHqC7n8yK",
        "outputId": "3c5bdffd-ee22-4e9e-f015-890a50c713dc"
      },
      "execution_count": 24,
      "outputs": [
        {
          "output_type": "execute_result",
          "data": {
            "text/plain": [
              "array([ 0.,  1.,  2., 10.,  3., nan])"
            ]
          },
          "metadata": {},
          "execution_count": 24
        }
      ]
    },
    {
      "cell_type": "code",
      "source": [
        "df['meal'].unique()\n",
        "##kind of meal opted for"
      ],
      "metadata": {
        "colab": {
          "base_uri": "https://localhost:8080/"
        },
        "id": "3xwGsPb-oGDS",
        "outputId": "26ad56aa-9603-4882-c6a1-809b8a4e5ecb"
      },
      "execution_count": 25,
      "outputs": [
        {
          "output_type": "execute_result",
          "data": {
            "text/plain": [
              "array(['BB', 'FB', 'HB', 'SC', 'Undefined'], dtype=object)"
            ]
          },
          "metadata": {},
          "execution_count": 25
        }
      ]
    },
    {
      "cell_type": "code",
      "source": [
        "df['country'].unique() ####country code"
      ],
      "metadata": {
        "colab": {
          "base_uri": "https://localhost:8080/"
        },
        "id": "bDjdkD_9oQLF",
        "outputId": "9ee18a17-8c34-4eab-ca74-3d240c509df7"
      },
      "execution_count": 26,
      "outputs": [
        {
          "output_type": "execute_result",
          "data": {
            "text/plain": [
              "array(['PRT', 'GBR', 'USA', 'ESP', 'IRL', 'FRA', nan, 'ROU', 'NOR', 'OMN',\n",
              "       'ARG', 'POL', 'DEU', 'BEL', 'CHE', 'CN', 'GRC', 'ITA', 'NLD',\n",
              "       'DNK', 'RUS', 'SWE', 'AUS', 'EST', 'CZE', 'BRA', 'FIN', 'MOZ',\n",
              "       'BWA', 'LUX', 'SVN', 'ALB', 'IND', 'CHN', 'MEX', 'MAR', 'UKR',\n",
              "       'SMR', 'LVA', 'PRI', 'SRB', 'CHL', 'AUT', 'BLR', 'LTU', 'TUR',\n",
              "       'ZAF', 'AGO', 'ISR', 'CYM', 'ZMB', 'CPV', 'ZWE', 'DZA', 'KOR',\n",
              "       'CRI', 'HUN', 'ARE', 'TUN', 'JAM', 'HRV', 'HKG', 'IRN', 'GEO',\n",
              "       'AND', 'GIB', 'URY', 'JEY', 'CAF', 'CYP', 'COL', 'GGY', 'KWT',\n",
              "       'NGA', 'MDV', 'VEN', 'SVK', 'FJI', 'KAZ', 'PAK', 'IDN', 'LBN',\n",
              "       'PHL', 'SEN', 'SYC', 'AZE', 'BHR', 'NZL', 'THA', 'DOM', 'MKD',\n",
              "       'MYS', 'ARM', 'JPN', 'LKA', 'CUB', 'CMR', 'BIH', 'MUS', 'COM',\n",
              "       'SUR', 'UGA', 'BGR', 'CIV', 'JOR', 'SYR', 'SGP', 'BDI', 'SAU',\n",
              "       'VNM', 'PLW', 'QAT', 'EGY', 'PER', 'MLT', 'MWI', 'ECU', 'MDG',\n",
              "       'ISL', 'UZB', 'NPL', 'BHS', 'MAC', 'TGO', 'TWN', 'DJI', 'STP',\n",
              "       'KNA', 'ETH', 'IRQ', 'HND', 'RWA', 'KHM', 'MCO', 'BGD', 'IMN',\n",
              "       'TJK', 'NIC', 'BEN', 'VGB', 'TZA', 'GAB', 'GHA', 'TMP', 'GLP',\n",
              "       'KEN', 'LIE', 'GNB', 'MNE', 'UMI', 'MYT', 'FRO', 'MMR', 'PAN',\n",
              "       'BFA', 'LBY', 'MLI', 'NAM', 'BOL', 'PRY', 'BRB', 'ABW', 'AIA',\n",
              "       'SLV', 'DMA', 'PYF', 'GUY', 'LCA', 'ATA', 'GTM', 'ASM', 'MRT',\n",
              "       'NCL', 'KIR', 'SDN', 'ATF', 'SLE', 'LAO'], dtype=object)"
            ]
          },
          "metadata": {},
          "execution_count": 26
        }
      ]
    },
    {
      "cell_type": "code",
      "source": [
        "df['market_segment'].unique()\n",
        "###which segment the customer belongs to"
      ],
      "metadata": {
        "colab": {
          "base_uri": "https://localhost:8080/"
        },
        "id": "N1Mi1kRYodNa",
        "outputId": "fbd92a64-46f3-450c-8468-78690c84a4b8"
      },
      "execution_count": 27,
      "outputs": [
        {
          "output_type": "execute_result",
          "data": {
            "text/plain": [
              "array(['Direct', 'Corporate', 'Online TA', 'Offline TA/TO',\n",
              "       'Complementary', 'Groups', 'Undefined', 'Aviation'], dtype=object)"
            ]
          },
          "metadata": {},
          "execution_count": 27
        }
      ]
    },
    {
      "cell_type": "code",
      "source": [
        "df['distribution_channel'].unique()\n",
        "#### how the customer accessed the stay"
      ],
      "metadata": {
        "colab": {
          "base_uri": "https://localhost:8080/"
        },
        "id": "qBudWSM3orDy",
        "outputId": "ba61d0b4-d513-49ac-aa7f-b76e09f2ee97"
      },
      "execution_count": 28,
      "outputs": [
        {
          "output_type": "execute_result",
          "data": {
            "text/plain": [
              "array(['Direct', 'Corporate', 'TA/TO', 'Undefined', 'GDS'], dtype=object)"
            ]
          },
          "metadata": {},
          "execution_count": 28
        }
      ]
    },
    {
      "cell_type": "code",
      "source": [
        "df['is_repeated_guest'].unique()###is the customer coming for the first time(0) or not(1)"
      ],
      "metadata": {
        "colab": {
          "base_uri": "https://localhost:8080/"
        },
        "id": "cPCcNjG7pEmR",
        "outputId": "f9287b46-dfa9-4a51-c87f-400e3cc0b522"
      },
      "execution_count": 29,
      "outputs": [
        {
          "output_type": "execute_result",
          "data": {
            "text/plain": [
              "array([0, 1])"
            ]
          },
          "metadata": {},
          "execution_count": 29
        }
      ]
    },
    {
      "cell_type": "code",
      "source": [
        "df['previous_cancellations'].unique()\n",
        "###no of of cancellations made before"
      ],
      "metadata": {
        "colab": {
          "base_uri": "https://localhost:8080/"
        },
        "id": "nA7rRTb1pdVu",
        "outputId": "03f02198-8439-48bb-f7c0-2889d7b5ffbb"
      },
      "execution_count": 30,
      "outputs": [
        {
          "output_type": "execute_result",
          "data": {
            "text/plain": [
              "array([ 0,  1,  2,  3, 26, 25, 14,  4, 24, 19,  5, 21,  6, 13, 11])"
            ]
          },
          "metadata": {},
          "execution_count": 30
        }
      ]
    },
    {
      "cell_type": "code",
      "source": [
        "df['previous_bookings_not_canceled'].unique()\n",
        "###no of non cancelled bookings of the customer"
      ],
      "metadata": {
        "colab": {
          "base_uri": "https://localhost:8080/"
        },
        "id": "ikC4gP2fpqlU",
        "outputId": "72d161ce-c805-410b-a779-cade9ad0028c"
      },
      "execution_count": 31,
      "outputs": [
        {
          "output_type": "execute_result",
          "data": {
            "text/plain": [
              "array([ 0,  1,  2,  3,  4,  5,  6,  7,  8,  9, 10, 11, 12, 13, 14, 15, 16,\n",
              "       17, 18, 20, 21, 22, 23, 24, 25, 27, 28, 29, 30, 19, 26, 31, 32, 33,\n",
              "       34, 35, 36, 37, 38, 39, 40, 41, 42, 43, 44, 45, 46, 47, 48, 49, 50,\n",
              "       51, 52, 53, 54, 55, 56, 57, 58, 59, 60, 61, 62, 63, 64, 65, 66, 67,\n",
              "       68, 69, 70, 71, 72])"
            ]
          },
          "metadata": {},
          "execution_count": 31
        }
      ]
    },
    {
      "cell_type": "code",
      "source": [
        "df['reserved_room_type'].unique()\n",
        "###type of room reserved"
      ],
      "metadata": {
        "colab": {
          "base_uri": "https://localhost:8080/"
        },
        "id": "RYUnU-Nip7S8",
        "outputId": "017bc78b-59fd-410e-f472-aaf0a3a14d2b"
      },
      "execution_count": 32,
      "outputs": [
        {
          "output_type": "execute_result",
          "data": {
            "text/plain": [
              "array(['C', 'A', 'D', 'E', 'G', 'F', 'H', 'L', 'P', 'B'], dtype=object)"
            ]
          },
          "metadata": {},
          "execution_count": 32
        }
      ]
    },
    {
      "cell_type": "code",
      "source": [
        "df['assigned_room_type'].unique()\n",
        "###type of room asigned"
      ],
      "metadata": {
        "colab": {
          "base_uri": "https://localhost:8080/"
        },
        "id": "KjBUb6FqsHn9",
        "outputId": "419b7380-d266-43d7-862b-b43ee78eefb3"
      },
      "execution_count": 33,
      "outputs": [
        {
          "output_type": "execute_result",
          "data": {
            "text/plain": [
              "array(['C', 'A', 'D', 'E', 'G', 'F', 'I', 'B', 'H', 'P', 'L', 'K'],\n",
              "      dtype=object)"
            ]
          },
          "metadata": {},
          "execution_count": 33
        }
      ]
    },
    {
      "cell_type": "code",
      "source": [
        "df['booking_changes'].unique()\n",
        "###count of changes made to booking"
      ],
      "metadata": {
        "colab": {
          "base_uri": "https://localhost:8080/"
        },
        "id": "UiLYmzCksQHp",
        "outputId": "096db5bf-a08c-4ba1-f8cc-10701ce65bdd"
      },
      "execution_count": 34,
      "outputs": [
        {
          "output_type": "execute_result",
          "data": {
            "text/plain": [
              "array([ 3,  4,  0,  1,  2,  5, 17,  6,  8,  7, 10, 16,  9, 13, 12, 20, 14,\n",
              "       15, 11, 21, 18])"
            ]
          },
          "metadata": {},
          "execution_count": 34
        }
      ]
    },
    {
      "cell_type": "code",
      "source": [
        " df['deposit_type'].unique() \n",
        " ###deposit type"
      ],
      "metadata": {
        "colab": {
          "base_uri": "https://localhost:8080/"
        },
        "id": "hlixLz6PsdB6",
        "outputId": "be820005-2dbe-4434-c4a3-a6c00c53bb1f"
      },
      "execution_count": 35,
      "outputs": [
        {
          "output_type": "execute_result",
          "data": {
            "text/plain": [
              "array(['No Deposit', 'Refundable', 'Non Refund'], dtype=object)"
            ]
          },
          "metadata": {},
          "execution_count": 35
        }
      ]
    },
    {
      "cell_type": "code",
      "source": [
        "df['agent'].unique()###booked through agent\n",
        "       "
      ],
      "metadata": {
        "colab": {
          "base_uri": "https://localhost:8080/"
        },
        "id": "tqBAl3Rasss2",
        "outputId": "2e89037d-38d0-468d-b984-4b01c2e38119"
      },
      "execution_count": 36,
      "outputs": [
        {
          "output_type": "execute_result",
          "data": {
            "text/plain": [
              "array([ nan, 304., 240., 303.,  15., 241.,   8., 250., 115.,   5., 175.,\n",
              "       134., 156., 243., 242.,   3., 105.,  40., 147., 306., 184.,  96.,\n",
              "         2., 127.,  95., 146.,   9., 177.,   6., 143., 244., 149., 167.,\n",
              "       300., 171., 305.,  67., 196., 152., 142., 261., 104.,  36.,  26.,\n",
              "        29., 258., 110.,  71., 181.,  88., 251., 275.,  69., 248., 208.,\n",
              "       256., 314., 126., 281., 273., 253., 185., 330., 334., 328., 326.,\n",
              "       321., 324., 313.,  38., 155.,  68., 335., 308., 332.,  94., 348.,\n",
              "       310., 339., 375.,  66., 327., 387., 298.,  91., 245., 385., 257.,\n",
              "       393., 168., 405., 249., 315.,  75., 128., 307.,  11., 436.,   1.,\n",
              "       201., 183., 223., 368., 336., 291., 464., 411., 481.,  10., 154.,\n",
              "       468., 410., 390., 440., 495., 492., 493., 434.,  57., 531., 420.,\n",
              "       483., 526., 472., 429.,  16., 446.,  34.,  78., 139., 252., 270.,\n",
              "        47., 114., 301., 193., 182., 135., 350., 195., 352., 355., 159.,\n",
              "       363., 384., 360., 331., 367.,  64., 406., 163., 414., 333., 427.,\n",
              "       431., 430., 426., 438., 433., 418., 441., 282., 432.,  72., 450.,\n",
              "       180., 454., 455.,  59., 451., 254., 358., 469., 165., 467., 510.,\n",
              "       337., 476., 502., 527., 479., 508., 535., 302., 497., 187.,  13.,\n",
              "         7.,  27.,  14.,  22.,  17.,  28.,  42.,  20.,  19.,  45.,  37.,\n",
              "        61.,  39.,  21.,  24.,  41.,  50.,  30.,  54.,  52.,  12.,  44.,\n",
              "        31.,  83.,  32.,  63.,  60.,  55.,  56.,  89.,  87., 118.,  86.,\n",
              "        85., 210., 214., 129., 179., 138., 174., 170., 153.,  93., 151.,\n",
              "       119.,  35., 173.,  58.,  53., 133.,  79., 235., 192., 191., 236.,\n",
              "       162., 215., 157., 287., 132., 234.,  98.,  77., 103., 107., 262.,\n",
              "       220., 121., 205., 378.,  23., 296., 290., 229.,  33., 286., 276.,\n",
              "       425., 484., 323., 403., 219., 394., 509., 111., 423.,   4.,  70.,\n",
              "        82.,  81.,  74.,  92.,  99.,  90., 112., 117., 106., 148., 158.,\n",
              "       144., 211., 213., 216., 232., 150., 267., 227., 247., 278., 280.,\n",
              "       285., 289., 269., 295., 265., 288., 122., 294., 325., 341., 344.,\n",
              "       346., 359., 283., 364., 370., 371.,  25., 141., 391., 397., 416.,\n",
              "       404., 299., 197.,  73., 354., 444., 408., 461., 388., 453., 459.,\n",
              "       474., 475., 480., 449.])"
            ]
          },
          "metadata": {},
          "execution_count": 36
        }
      ]
    },
    {
      "cell_type": "code",
      "source": [
        "df['days_in_waiting_list'].unique()\n",
        "##no of days in waiting list"
      ],
      "metadata": {
        "colab": {
          "base_uri": "https://localhost:8080/"
        },
        "id": "LEHERZeStKgI",
        "outputId": "92fbbefb-c9be-4c4a-d780-be7d41888ea0"
      },
      "execution_count": 37,
      "outputs": [
        {
          "output_type": "execute_result",
          "data": {
            "text/plain": [
              "array([  0,  50,  47,  65, 122,  75, 101, 150, 125,  14,  60,  34, 100,\n",
              "        22, 121,  61,  39,   5,   1,   8, 107,  43,  52,   2,  11, 142,\n",
              "       116,  13,  44,  97,  83,   4, 113,  18,  20, 185,  93, 109,   6,\n",
              "        37, 105, 154,  64,  99,  38,  48,  33,  77,  21,  80,  59,  40,\n",
              "        58,  89,  53,  49,  69,  87,  91,  57, 111,  79,  98,  85,  63,\n",
              "        15,   3,  41, 224,  31,  56, 187, 176,  71,  55,  96, 236, 259,\n",
              "       207, 215, 160, 120,  30,  32,  27,  62,  24, 108, 147, 379,  70,\n",
              "        35, 178, 330, 223, 174, 162, 391,  68, 193,  10,  76,  16,  28,\n",
              "         9, 165,  17,  25,  46,   7,  84, 175, 183,  23, 117,  12,  54,\n",
              "        26,  73,  45,  19,  42,  72,  81,  92,  74, 167,  36])"
            ]
          },
          "metadata": {},
          "execution_count": 37
        }
      ]
    },
    {
      "cell_type": "code",
      "source": [
        "df['customer_type'].unique()\n",
        "##type of customer"
      ],
      "metadata": {
        "colab": {
          "base_uri": "https://localhost:8080/"
        },
        "id": "kyQOnlrTttys",
        "outputId": "8657bac7-866e-4102-a7d2-8422268ea2ca"
      },
      "execution_count": 38,
      "outputs": [
        {
          "output_type": "execute_result",
          "data": {
            "text/plain": [
              "array(['Transient', 'Contract', 'Transient-Party', 'Group'], dtype=object)"
            ]
          },
          "metadata": {},
          "execution_count": 38
        }
      ]
    },
    {
      "cell_type": "code",
      "source": [
        "df['adr'].unique()\n",
        "##Average daily rate is the measure of the average paid for rooms sold in a given time period. "
      ],
      "metadata": {
        "colab": {
          "base_uri": "https://localhost:8080/"
        },
        "id": "ECzANJs9PcMx",
        "outputId": "ff5ba38d-e469-46ad-f5e3-6d4dca285388"
      },
      "execution_count": 67,
      "outputs": [
        {
          "output_type": "execute_result",
          "data": {
            "text/plain": [
              "array([  0.  ,  75.  ,  98.  , ..., 266.75, 209.25, 157.71])"
            ]
          },
          "metadata": {},
          "execution_count": 67
        }
      ]
    },
    {
      "cell_type": "code",
      "source": [
        "df['required_car_parking_spaces'].unique() ###if car parking space is required"
      ],
      "metadata": {
        "colab": {
          "base_uri": "https://localhost:8080/"
        },
        "id": "sLlp0xZJuK86",
        "outputId": "b3f9ca6e-c2f1-414c-cfa1-70e9fa54f338"
      },
      "execution_count": 39,
      "outputs": [
        {
          "output_type": "execute_result",
          "data": {
            "text/plain": [
              "array([0, 1, 2, 8, 3])"
            ]
          },
          "metadata": {},
          "execution_count": 39
        }
      ]
    },
    {
      "cell_type": "code",
      "source": [
        "df['total_of_special_requests'].unique()\n",
        "    ###no of special request made"
      ],
      "metadata": {
        "colab": {
          "base_uri": "https://localhost:8080/"
        },
        "id": "kvr9Pqq-uy-t",
        "outputId": "c9fd1d58-dc81-42cd-b1b0-8fc44859d065"
      },
      "execution_count": 40,
      "outputs": [
        {
          "output_type": "execute_result",
          "data": {
            "text/plain": [
              "array([0, 1, 3, 2, 4, 5])"
            ]
          },
          "metadata": {},
          "execution_count": 40
        }
      ]
    },
    {
      "cell_type": "code",
      "source": [
        "df['reservation_status'].unique() \n",
        "###status of reservation"
      ],
      "metadata": {
        "colab": {
          "base_uri": "https://localhost:8080/"
        },
        "id": "U2sKarGZvYe-",
        "outputId": "e0468e52-3adb-42b1-a6c9-dfcc165d5d61"
      },
      "execution_count": 41,
      "outputs": [
        {
          "output_type": "execute_result",
          "data": {
            "text/plain": [
              "array(['Check-Out', 'Canceled', 'No-Show'], dtype=object)"
            ]
          },
          "metadata": {},
          "execution_count": 41
        }
      ]
    },
    {
      "cell_type": "code",
      "source": [
        "df['reservation_status_date'].unique()\n",
        "###date of specific status"
      ],
      "metadata": {
        "colab": {
          "base_uri": "https://localhost:8080/"
        },
        "id": "ouZnLFm6vx3V",
        "outputId": "030a4a17-b0ba-4f05-8b57-52675175e81d"
      },
      "execution_count": 42,
      "outputs": [
        {
          "output_type": "execute_result",
          "data": {
            "text/plain": [
              "array(['2015-07-01', '2015-07-02', '2015-07-03', '2015-05-06',\n",
              "       '2015-04-22', '2015-06-23', '2015-07-05', '2015-07-06',\n",
              "       '2015-07-07', '2015-07-08', '2015-05-11', '2015-07-15',\n",
              "       '2015-07-16', '2015-05-29', '2015-05-19', '2015-06-19',\n",
              "       '2015-05-23', '2015-05-18', '2015-07-09', '2015-06-02',\n",
              "       '2015-07-13', '2015-07-04', '2015-06-29', '2015-06-16',\n",
              "       '2015-06-18', '2015-06-12', '2015-06-09', '2015-05-26',\n",
              "       '2015-07-11', '2015-07-12', '2015-07-17', '2015-04-15',\n",
              "       '2015-05-13', '2015-07-10', '2015-05-20', '2015-05-12',\n",
              "       '2015-07-14', '2015-06-17', '2015-05-01', '2015-03-30',\n",
              "       '2015-07-19', '2015-06-03', '2015-06-26', '2015-05-14',\n",
              "       '2015-07-20', '2015-05-07', '2015-05-28', '2015-04-13',\n",
              "       '2015-03-25', '2015-07-21', '2015-06-27', '2015-07-18',\n",
              "       '2015-07-23', '2015-06-08', '2015-06-22', '2015-06-24',\n",
              "       '2015-03-05', '2015-06-01', '2015-04-24', '2015-07-22',\n",
              "       '2015-05-27', '2015-04-06', '2015-04-11', '2015-07-25',\n",
              "       '2015-07-28', '2015-07-29', '2015-06-25', '2015-07-24',\n",
              "       '2015-06-05', '2015-06-30', '2015-06-13', '2015-06-11',\n",
              "       '2015-07-30', '2015-07-27', '2015-04-29', '2015-06-04',\n",
              "       '2015-07-26', '2015-08-01', '2015-08-02', '2015-06-15',\n",
              "       '2015-04-23', '2015-07-31', '2015-05-25', '2015-08-03',\n",
              "       '2015-04-17', '2015-08-04', '2015-08-06', '2015-05-15',\n",
              "       '2015-05-09', '2015-03-17', '2015-05-22', '2015-08-07',\n",
              "       '2015-04-04', '2015-08-05', '2015-08-08', '2015-08-10',\n",
              "       '2015-05-04', '2015-06-06', '2015-08-09', '2015-08-15',\n",
              "       '2015-08-11', '2015-03-28', '2015-08-14', '2015-08-12',\n",
              "       '2015-08-16', '2015-05-16', '2015-08-21', '2015-08-13',\n",
              "       '2015-08-17', '2015-04-20', '2015-08-18', '2015-08-23',\n",
              "       '2015-08-22', '2015-08-19', '2015-08-20', '2015-08-29',\n",
              "       '2015-03-31', '2015-05-30', '2015-08-25', '2015-04-14',\n",
              "       '2015-08-24', '2015-03-24', '2015-05-21', '2015-08-28',\n",
              "       '2015-08-26', '2015-08-27', '2015-08-30', '2015-08-31',\n",
              "       '2015-09-06', '2015-09-03', '2015-09-04', '2015-09-02',\n",
              "       '2015-09-01', '2015-09-05', '2015-06-20', '2015-09-07',\n",
              "       '2015-09-10', '2015-09-11', '2015-09-08', '2015-09-09',\n",
              "       '2015-09-13', '2015-09-15', '2015-04-10', '2015-01-02',\n",
              "       '2014-11-18', '2015-09-12', '2015-09-17', '2015-09-14',\n",
              "       '2015-04-07', '2015-09-19', '2015-09-16', '2015-09-20',\n",
              "       '2015-01-18', '2015-10-23', '2015-01-22', '2015-01-01',\n",
              "       '2015-09-22', '2015-09-24', '2015-09-18', '2015-09-21',\n",
              "       '2015-09-30', '2015-09-25', '2015-09-27', '2015-09-28',\n",
              "       '2015-10-12', '2015-09-29', '2015-09-23', '2015-10-01',\n",
              "       '2015-09-26', '2015-04-18', '2015-10-02', '2015-10-04',\n",
              "       '2015-10-08', '2015-10-03', '2015-10-07', '2015-10-09',\n",
              "       '2015-10-11', '2015-10-05', '2015-10-06', '2015-10-10',\n",
              "       '2015-10-14', '2015-10-15', '2015-10-18', '2015-10-13',\n",
              "       '2015-10-20', '2015-10-19', '2015-10-31', '2015-10-16',\n",
              "       '2015-10-21', '2015-10-22', '2015-10-17', '2015-10-24',\n",
              "       '2015-10-25', '2015-10-28', '2015-10-27', '2015-10-26',\n",
              "       '2015-10-30', '2015-11-05', '2015-10-29', '2015-11-03',\n",
              "       '2015-11-07', '2015-11-04', '2015-11-01', '2015-11-02',\n",
              "       '2015-11-17', '2015-11-06', '2015-11-10', '2015-11-08',\n",
              "       '2015-11-09', '2015-11-15', '2015-11-16', '2015-11-11',\n",
              "       '2015-11-12', '2015-11-14', '2015-11-13', '2015-11-18',\n",
              "       '2015-11-22', '2015-11-19', '2015-11-21', '2015-11-20',\n",
              "       '2015-11-24', '2015-11-25', '2015-11-23', '2015-11-28',\n",
              "       '2015-11-26', '2015-11-27', '2015-11-29', '2015-12-04',\n",
              "       '2015-12-01', '2015-12-06', '2015-12-08', '2015-12-02',\n",
              "       '2015-12-03', '2015-12-31', '2015-12-05', '2015-12-10',\n",
              "       '2015-12-17', '2015-11-30', '2015-12-12', '2015-12-07',\n",
              "       '2016-01-05', '2015-12-11', '2015-12-13', '2015-12-15',\n",
              "       '2015-12-16', '2015-12-19', '2015-12-18', '2015-12-26',\n",
              "       '2015-12-27', '2015-12-22', '2015-12-23', '2015-12-24',\n",
              "       '2015-12-29', '2015-12-28', '2015-12-20', '2015-12-30',\n",
              "       '2016-01-02', '2016-01-01', '2015-12-25', '2016-01-03',\n",
              "       '2016-01-04', '2016-01-11', '2016-01-07', '2015-12-21',\n",
              "       '2016-01-09', '2016-01-10', '2016-01-08', '2016-01-06',\n",
              "       '2016-01-12', '2016-01-13', '2016-01-23', '2016-02-09',\n",
              "       '2016-01-15', '2016-01-16', '2016-01-17', '2016-01-19',\n",
              "       '2016-01-18', '2016-01-21', '2016-01-24', '2016-01-22',\n",
              "       '2016-01-29', '2016-01-27', '2016-01-25', '2016-03-08',\n",
              "       '2016-01-26', '2016-01-20', '2016-01-30', '2016-02-01',\n",
              "       '2016-02-02', '2016-02-08', '2016-02-07', '2016-01-28',\n",
              "       '2016-02-05', '2016-02-03', '2016-02-13', '2016-02-10',\n",
              "       '2016-02-04', '2016-02-12', '2016-02-11', '2016-02-16',\n",
              "       '2016-02-14', '2016-02-15', '2016-02-20', '2016-02-06',\n",
              "       '2016-01-14', '2016-02-17', '2016-02-21', '2016-02-24',\n",
              "       '2016-02-25', '2016-02-19', '2016-02-18', '2016-02-26',\n",
              "       '2016-02-23', '2016-03-05', '2016-02-22', '2016-02-27',\n",
              "       '2016-03-03', '2016-03-24', '2016-03-04', '2016-02-29',\n",
              "       '2016-03-01', '2016-03-02', '2016-03-30', '2016-03-07',\n",
              "       '2016-03-14', '2016-03-21', '2016-03-09', '2016-03-12',\n",
              "       '2016-03-22', '2016-03-10', '2016-03-11', '2016-03-20',\n",
              "       '2016-03-15', '2016-03-17', '2016-03-16', '2016-03-19',\n",
              "       '2016-03-27', '2016-03-18', '2016-03-26', '2016-03-31',\n",
              "       '2016-03-28', '2016-03-29', '2016-04-01', '2016-03-23',\n",
              "       '2016-04-02', '2016-03-25', '2016-03-13', '2016-04-04',\n",
              "       '2016-04-03', '2016-04-05', '2016-04-08', '2016-04-06',\n",
              "       '2016-04-09', '2016-04-12', '2016-04-16', '2016-04-17',\n",
              "       '2016-04-27', '2016-04-14', '2016-04-18', '2016-04-21',\n",
              "       '2016-04-19', '2016-04-20', '2016-04-10', '2016-04-13',\n",
              "       '2016-04-11', '2016-04-07', '2016-04-15', '2016-04-22',\n",
              "       '2016-04-23', '2016-04-26', '2016-04-28', '2016-04-24',\n",
              "       '2016-04-25', '2016-04-29', '2016-04-30', '2016-05-01',\n",
              "       '2016-05-10', '2016-05-02', '2016-05-07', '2016-05-08',\n",
              "       '2016-05-12', '2016-05-04', '2016-05-06', '2016-05-03',\n",
              "       '2016-05-09', '2016-05-05', '2016-05-13', '2016-05-14',\n",
              "       '2016-05-18', '2016-05-19', '2016-05-15', '2016-05-16',\n",
              "       '2016-05-11', '2016-05-21', '2016-05-22', '2016-05-20',\n",
              "       '2016-05-24', '2016-05-25', '2016-05-26', '2016-05-23',\n",
              "       '2016-05-27', '2016-05-17', '2016-05-29', '2016-05-28',\n",
              "       '2016-05-30', '2016-05-31', '2016-06-01', '2016-06-03',\n",
              "       '2016-06-08', '2016-06-02', '2016-06-05', '2016-06-06',\n",
              "       '2016-06-13', '2016-06-07', '2016-06-10', '2016-06-11',\n",
              "       '2016-06-16', '2016-06-12', '2016-06-14', '2016-06-17',\n",
              "       '2016-06-04', '2016-06-18', '2016-06-21', '2016-06-09',\n",
              "       '2016-06-24', '2016-06-20', '2016-06-25', '2016-06-22',\n",
              "       '2016-06-26', '2016-06-23', '2016-07-01', '2016-06-15',\n",
              "       '2016-06-28', '2016-07-02', '2016-06-19', '2016-06-27',\n",
              "       '2016-07-04', '2016-06-30', '2016-07-05', '2016-07-08',\n",
              "       '2016-07-09', '2016-07-07', '2016-07-12', '2016-06-29',\n",
              "       '2016-07-10', '2016-07-15', '2016-07-03', '2016-07-16',\n",
              "       '2016-07-14', '2016-07-18', '2016-07-13', '2016-07-06',\n",
              "       '2016-07-20', '2016-07-21', '2016-07-23', '2016-07-19',\n",
              "       '2016-07-11', '2016-07-28', '2016-07-17', '2016-07-25',\n",
              "       '2016-07-22', '2016-07-29', '2016-08-03', '2016-08-02',\n",
              "       '2016-08-04', '2016-08-08', '2016-08-10', '2016-08-01',\n",
              "       '2016-08-06', '2016-03-06', '2016-08-05', '2016-07-26',\n",
              "       '2016-08-07', '2016-07-30', '2016-07-24', '2016-08-12',\n",
              "       '2016-07-27', '2016-08-13', '2016-08-18', '2016-08-16',\n",
              "       '2016-08-15', '2016-08-17', '2016-08-11', '2016-07-31',\n",
              "       '2016-08-19', '2016-09-01', '2016-08-23', '2016-08-26',\n",
              "       '2016-08-20', '2016-08-21', '2016-09-04', '2016-08-22',\n",
              "       '2016-08-27', '2016-08-25', '2016-08-09', '2016-09-05',\n",
              "       '2016-08-24', '2016-09-10', '2016-08-29', '2016-09-09',\n",
              "       '2016-08-30', '2016-09-13', '2016-08-31', '2016-09-14',\n",
              "       '2016-09-12', '2016-09-15', '2016-08-14', '2016-09-02',\n",
              "       '2016-09-08', '2016-09-19', '2016-09-16', '2016-09-07',\n",
              "       '2016-09-21', '2016-09-06', '2016-09-22', '2016-09-17',\n",
              "       '2016-09-20', '2016-09-03', '2016-09-26', '2016-09-23',\n",
              "       '2016-09-18', '2016-09-29', '2016-10-02', '2016-10-01',\n",
              "       '2016-09-27', '2016-09-25', '2016-10-05', '2016-09-11',\n",
              "       '2016-09-30', '2016-10-09', '2016-10-03', '2016-10-06',\n",
              "       '2016-10-11', '2016-09-24', '2016-10-13', '2016-09-28',\n",
              "       '2016-10-08', '2016-10-07', '2016-10-16', '2016-08-28',\n",
              "       '2016-10-17', '2016-10-18', '2016-10-10', '2016-10-04',\n",
              "       '2016-10-15', '2016-10-19', '2016-10-21', '2016-10-12',\n",
              "       '2016-10-24', '2016-10-26', '2016-10-23', '2016-10-20',\n",
              "       '2016-10-25', '2016-10-27', '2016-10-28', '2016-10-30',\n",
              "       '2016-10-29', '2016-11-01', '2016-11-04', '2016-10-14',\n",
              "       '2016-11-07', '2016-11-03', '2016-11-10', '2016-11-14',\n",
              "       '2016-11-02', '2016-10-31', '2016-11-11', '2016-11-08',\n",
              "       '2016-11-05', '2016-11-25', '2016-11-09', '2016-11-20',\n",
              "       '2016-11-21', '2016-10-22', '2016-11-22', '2016-11-16',\n",
              "       '2016-11-23', '2016-11-17', '2016-11-06', '2016-11-15',\n",
              "       '2016-11-13', '2016-11-12', '2016-11-27', '2016-11-19',\n",
              "       '2016-11-30', '2016-11-18', '2016-12-02', '2016-12-04',\n",
              "       '2016-11-29', '2016-12-07', '2016-11-28', '2016-12-03',\n",
              "       '2016-12-06', '2016-11-24', '2016-12-08', '2016-12-05',\n",
              "       '2016-12-10', '2016-12-13', '2016-12-14', '2016-12-16',\n",
              "       '2016-12-15', '2016-12-17', '2016-12-19', '2016-12-21',\n",
              "       '2016-12-20', '2016-12-22', '2016-12-23', '2016-12-24',\n",
              "       '2016-12-01', '2016-12-27', '2016-12-29', '2016-12-30',\n",
              "       '2016-12-12', '2017-01-02', '2016-12-11', '2017-01-03',\n",
              "       '2017-01-04', '2017-01-01', '2016-12-26', '2017-01-06',\n",
              "       '2016-12-28', '2016-12-18', '2017-01-10', '2017-01-11',\n",
              "       '2017-01-07', '2017-01-12', '2017-01-16', '2017-01-14',\n",
              "       '2017-01-13', '2017-01-05', '2017-01-17', '2017-01-20',\n",
              "       '2016-12-09', '2017-01-26', '2016-12-31', '2017-01-23',\n",
              "       '2017-01-27', '2017-01-28', '2017-01-19', '2017-01-25',\n",
              "       '2017-01-24', '2017-01-29', '2017-01-18', '2016-12-25',\n",
              "       '2017-01-15', '2017-01-21', '2017-02-01', '2017-02-02',\n",
              "       '2017-01-31', '2017-02-03', '2017-02-04', '2017-02-06',\n",
              "       '2017-02-07', '2017-02-08', '2017-01-30', '2017-02-09',\n",
              "       '2017-01-09', '2017-02-11', '2017-02-10', '2017-02-12',\n",
              "       '2017-02-13', '2017-02-14', '2017-02-16', '2017-02-17',\n",
              "       '2017-02-18', '2017-02-19', '2017-02-20', '2017-02-15',\n",
              "       '2017-02-21', '2017-02-22', '2017-02-26', '2017-02-23',\n",
              "       '2017-02-24', '2017-02-25', '2017-02-28', '2017-03-05',\n",
              "       '2017-02-27', '2017-03-03', '2017-03-06', '2017-03-02',\n",
              "       '2017-03-08', '2017-03-09', '2017-03-10', '2017-03-07',\n",
              "       '2017-03-12', '2017-03-13', '2017-03-14', '2017-03-01',\n",
              "       '2017-03-18', '2017-03-17', '2017-03-24', '2017-03-22',\n",
              "       '2017-03-26', '2017-03-27', '2017-03-11', '2017-03-28',\n",
              "       '2017-03-29', '2017-03-30', '2017-03-31', '2017-03-19',\n",
              "       '2017-01-22', '2017-04-02', '2017-03-20', '2017-04-03',\n",
              "       '2017-01-08', '2017-03-23', '2017-04-05', '2017-02-05',\n",
              "       '2017-04-04', '2017-03-15', '2017-04-07', '2017-03-25',\n",
              "       '2017-04-08', '2017-04-06', '2017-03-21', '2017-04-10',\n",
              "       '2017-04-01', '2017-04-11', '2017-04-13', '2017-04-15',\n",
              "       '2017-04-12', '2017-03-04', '2017-04-19', '2017-04-22',\n",
              "       '2017-04-20', '2017-05-02', '2017-04-09', '2017-04-23',\n",
              "       '2017-04-24', '2017-04-16', '2017-04-28', '2017-04-18',\n",
              "       '2017-04-26', '2017-04-25', '2017-04-17', '2017-04-21',\n",
              "       '2017-05-03', '2017-05-04', '2017-03-16', '2017-05-05',\n",
              "       '2017-04-29', '2017-04-14', '2017-05-08', '2017-04-27',\n",
              "       '2017-05-11', '2017-05-01', '2017-05-10', '2017-05-13',\n",
              "       '2017-05-06', '2017-05-14', '2017-05-16', '2017-04-30',\n",
              "       '2017-05-15', '2017-05-07', '2017-05-09', '2017-05-17',\n",
              "       '2017-05-21', '2017-05-12', '2017-05-22', '2017-05-24',\n",
              "       '2017-05-23', '2017-05-25', '2017-05-26', '2017-05-28',\n",
              "       '2017-05-27', '2017-05-29', '2017-05-19', '2017-05-31',\n",
              "       '2017-05-20', '2017-06-01', '2017-05-30', '2017-06-02',\n",
              "       '2016-11-26', '2017-06-04', '2017-06-05', '2017-06-06',\n",
              "       '2017-06-07', '2017-05-18', '2017-06-09', '2017-06-10',\n",
              "       '2017-06-11', '2017-06-12', '2017-06-14', '2017-06-08',\n",
              "       '2017-06-16', '2017-06-13', '2017-06-03', '2017-06-24',\n",
              "       '2017-06-20', '2017-06-19', '2017-06-21', '2017-06-26',\n",
              "       '2017-06-27', '2017-06-22', '2017-06-28', '2017-06-15',\n",
              "       '2017-06-29', '2017-06-30', '2017-06-18', '2017-07-04',\n",
              "       '2017-07-08', '2017-07-05', '2017-07-03', '2017-07-07',\n",
              "       '2017-07-01', '2017-07-06', '2017-07-11', '2017-07-12',\n",
              "       '2017-06-23', '2017-07-13', '2017-07-02', '2017-07-10',\n",
              "       '2017-07-14', '2017-07-15', '2017-07-16', '2017-07-18',\n",
              "       '2017-07-17', '2017-07-19', '2017-07-20', '2017-07-21',\n",
              "       '2017-06-25', '2017-06-17', '2017-07-24', '2017-07-26',\n",
              "       '2017-07-09', '2017-07-27', '2017-07-28', '2017-07-31',\n",
              "       '2017-07-29', '2017-07-22', '2017-08-02', '2017-08-01',\n",
              "       '2017-08-03', '2017-08-04', '2017-07-25', '2017-07-23',\n",
              "       '2017-08-09', '2017-08-10', '2017-07-30', '2017-08-07',\n",
              "       '2017-08-13', '2017-08-05', '2017-08-14', '2017-08-08',\n",
              "       '2017-08-16', '2017-08-17', '2017-08-15', '2017-08-18',\n",
              "       '2017-08-20', '2017-08-22', '2017-08-06', '2017-08-25',\n",
              "       '2017-08-26', '2017-08-23', '2017-08-11', '2017-08-27',\n",
              "       '2017-08-21', '2017-08-29', '2017-08-31', '2017-08-12',\n",
              "       '2017-08-19', '2016-01-31', '2017-09-01', '2017-08-28',\n",
              "       '2015-04-03', '2015-01-21', '2015-01-28', '2015-01-29',\n",
              "       '2015-01-30', '2015-02-02', '2015-02-05', '2015-02-06',\n",
              "       '2015-02-09', '2015-02-10', '2015-02-11', '2015-02-12',\n",
              "       '2015-02-19', '2015-02-20', '2015-02-23', '2015-02-24',\n",
              "       '2015-02-25', '2015-02-26', '2015-02-27', '2015-03-03',\n",
              "       '2015-03-04', '2015-03-06', '2015-03-09', '2015-03-11',\n",
              "       '2015-03-12', '2015-03-18', '2015-04-02', '2015-06-14',\n",
              "       '2015-04-08', '2015-04-16', '2015-04-25', '2015-04-28',\n",
              "       '2015-05-08', '2017-09-06', '2016-02-28', '2015-12-09',\n",
              "       '2015-12-14', '2017-09-09', '2017-09-02', '2017-08-24',\n",
              "       '2017-08-30', '2017-09-03', '2017-09-04', '2017-09-05',\n",
              "       '2017-09-07', '2017-09-08', '2017-09-10', '2017-09-12',\n",
              "       '2017-09-14', '2015-04-30', '2015-04-21', '2015-04-05',\n",
              "       '2015-03-13', '2015-05-05', '2015-03-29', '2015-06-10',\n",
              "       '2015-04-27', '2014-10-17', '2015-01-20', '2015-02-17',\n",
              "       '2015-03-10', '2015-03-23'], dtype=object)"
            ]
          },
          "metadata": {},
          "execution_count": 42
        }
      ]
    },
    {
      "cell_type": "markdown",
      "source": [
        "## 3. ***Data Wrangling***\n"
      ],
      "metadata": {
        "id": "4N-iqj4A9vvW"
      }
    },
    {
      "cell_type": "markdown",
      "source": [
        "### **Cleaning data**\n",
        "Analyses and algorithms are only as good as the data they’re based on. On average, organizations believe that nearly 30% of their data is inaccurate. This dirty data costs companies 12% of their overall revenue — and they’re losing more than just money. Cleansing produces consistent, structured, accurate data, which allows for informed, intelligent decisions. It also highlights areas for improvement in upstream data entry and storage environments, saving time and money now and in the future.\n",
        "\n",
        "While cleaning data we will perform following steps: \n",
        "1. Remove duplicate rows (which we have already done above)\n",
        "2. Handling missing values. \n",
        "3. Convert columns to appropriate datatypes. (Categorial to Numerical)\n",
        "4. Adding important columns"
      ],
      "metadata": {
        "id": "FibyR8bu-NRm"
      }
    },
    {
      "cell_type": "code",
      "source": [
        "##lets create a copy of the original dataframe so our original dataset remains unchanged\n",
        "df1=df.copy()\n",
        "df1.shape ###shape after dropping duplicates"
      ],
      "metadata": {
        "colab": {
          "base_uri": "https://localhost:8080/"
        },
        "id": "x-LruHa1srTo",
        "outputId": "36edc412-085b-4fbd-98c0-ce66b2811a7a"
      },
      "execution_count": 43,
      "outputs": [
        {
          "output_type": "execute_result",
          "data": {
            "text/plain": [
              "(87396, 32)"
            ]
          },
          "metadata": {},
          "execution_count": 43
        }
      ]
    },
    {
      "cell_type": "markdown",
      "source": [
        "#### Step 2 - Handling missing values"
      ],
      "metadata": {
        "id": "WdODa0vYAZ57"
      }
    },
    {
      "cell_type": "code",
      "source": [
        "df1.isnull().sum().sort_values(ascending = False)[:5]"
      ],
      "metadata": {
        "colab": {
          "base_uri": "https://localhost:8080/"
        },
        "id": "YF9v7kxY848u",
        "outputId": "b5218c0c-89da-498c-9e08-68be1a577385"
      },
      "execution_count": 44,
      "outputs": [
        {
          "output_type": "execute_result",
          "data": {
            "text/plain": [
              "company               82137\n",
              "agent                 12193\n",
              "country                 452\n",
              "children                  4\n",
              "reserved_room_type        0\n",
              "dtype: int64"
            ]
          },
          "metadata": {},
          "execution_count": 44
        }
      ]
    },
    {
      "cell_type": "code",
      "source": [
        "df['company'].value_counts() ### checking value counts of different company ids"
      ],
      "metadata": {
        "colab": {
          "base_uri": "https://localhost:8080/"
        },
        "id": "TlO8M_D385GH",
        "outputId": "9b9acc8e-e1a7-4907-893c-8cb3c12bfff2"
      },
      "execution_count": 45,
      "outputs": [
        {
          "output_type": "execute_result",
          "data": {
            "text/plain": [
              "40.0     851\n",
              "223.0    503\n",
              "45.0     238\n",
              "153.0    206\n",
              "154.0    133\n",
              "        ... \n",
              "10.0       1\n",
              "419.0      1\n",
              "415.0      1\n",
              "425.0      1\n",
              "534.0      1\n",
              "Name: company, Length: 352, dtype: int64"
            ]
          },
          "metadata": {},
          "execution_count": 45
        }
      ]
    },
    {
      "cell_type": "code",
      "source": [
        "df['agent'].value_counts()   ### checking value_counts of different agent ids"
      ],
      "metadata": {
        "colab": {
          "base_uri": "https://localhost:8080/"
        },
        "id": "YjxnA4gZ85Rx",
        "outputId": "c0bd8239-670a-478a-de49-2d8a3ba56e64"
      },
      "execution_count": 46,
      "outputs": [
        {
          "output_type": "execute_result",
          "data": {
            "text/plain": [
              "9.0      28759\n",
              "240.0    13028\n",
              "14.0      3349\n",
              "7.0       3300\n",
              "250.0     2779\n",
              "         ...  \n",
              "497.0        1\n",
              "337.0        1\n",
              "510.0        1\n",
              "165.0        1\n",
              "449.0        1\n",
              "Name: agent, Length: 333, dtype: int64"
            ]
          },
          "metadata": {},
          "execution_count": 46
        }
      ]
    },
    {
      "cell_type": "code",
      "source": [
        "df['country'].value_counts()   ###checking value counts of different country codes"
      ],
      "metadata": {
        "colab": {
          "base_uri": "https://localhost:8080/"
        },
        "id": "0d0gqcBblNLC",
        "outputId": "42bfe234-724a-4998-ff52-25021dbfe7fc"
      },
      "execution_count": 47,
      "outputs": [
        {
          "output_type": "execute_result",
          "data": {
            "text/plain": [
              "PRT    27453\n",
              "GBR    10433\n",
              "FRA     8837\n",
              "ESP     7252\n",
              "DEU     5387\n",
              "       ...  \n",
              "MMR        1\n",
              "BFA        1\n",
              "CYM        1\n",
              "MLI        1\n",
              "KHM        1\n",
              "Name: country, Length: 177, dtype: int64"
            ]
          },
          "metadata": {},
          "execution_count": 47
        }
      ]
    },
    {
      "cell_type": "code",
      "source": [
        "df['children'].value_counts()  ###checking value counts of children column"
      ],
      "metadata": {
        "colab": {
          "base_uri": "https://localhost:8080/"
        },
        "id": "i_U7dM2DSS_z",
        "outputId": "6e5ea35e-dffb-4bb2-80f7-e59498dc2363"
      },
      "execution_count": 48,
      "outputs": [
        {
          "output_type": "execute_result",
          "data": {
            "text/plain": [
              "0.0     79028\n",
              "1.0      4695\n",
              "2.0      3593\n",
              "3.0        75\n",
              "10.0        1\n",
              "Name: children, dtype: int64"
            ]
          },
          "metadata": {},
          "execution_count": 48
        }
      ]
    },
    {
      "cell_type": "markdown",
      "source": [
        "1. **company and agents column** has the big no of null values , we could have deleted it also but after checking the value counts it feels like still can be helpfull. Some particular company and agents are producing good no of customers\n",
        "So we will fill the null values with 0\n",
        "2. **Country column** is a categorical feature so we will replace it with the mode value. The mode value is the value that appears more than any other value. So, in this case, I am replacing it with the country that appears the most often.\n",
        "3. **Children column** has very less null and contains the count of children.It also has 0 children category. so we will replace all the missing values with the rounded mean value"
      ],
      "metadata": {
        "id": "epVjqk30Jq2A"
      }
    },
    {
      "cell_type": "code",
      "source": [
        "df1[['company','agent']] = df1[['company','agent']].fillna(0)  ###filling null values with 0\n",
        "df1['children'].fillna(df1['children'].mean(), inplace = True) ###filling null values with mean value\n",
        "\n"
      ],
      "metadata": {
        "id": "gdHXlCuOQqRg"
      },
      "execution_count": 49,
      "outputs": []
    },
    {
      "cell_type": "code",
      "source": [
        "df['country'].mode()[0] ###checking for best datatype to fill values"
      ],
      "metadata": {
        "colab": {
          "base_uri": "https://localhost:8080/",
          "height": 35
        },
        "id": "YbjH0yoSUMAO",
        "outputId": "9b36db15-97f0-4a1e-8450-5fa42124698d"
      },
      "execution_count": 50,
      "outputs": [
        {
          "output_type": "execute_result",
          "data": {
            "text/plain": [
              "'PRT'"
            ],
            "application/vnd.google.colaboratory.intrinsic+json": {
              "type": "string"
            }
          },
          "metadata": {},
          "execution_count": 50
        }
      ]
    },
    {
      "cell_type": "code",
      "source": [
        "df1['country'].fillna(df1['country'].mode()[0],inplace=True)   ### filling null values with mode value"
      ],
      "metadata": {
        "id": "5eKF7yH6U7cq"
      },
      "execution_count": 51,
      "outputs": []
    },
    {
      "cell_type": "code",
      "source": [
        "df1.isnull().sum()  ###checking if any null values are still left or not"
      ],
      "metadata": {
        "colab": {
          "base_uri": "https://localhost:8080/"
        },
        "id": "FEXUy7DKRnWB",
        "outputId": "5f99f93f-33c9-4e50-ed51-f43438b2dd60"
      },
      "execution_count": 52,
      "outputs": [
        {
          "output_type": "execute_result",
          "data": {
            "text/plain": [
              "hotel                             0\n",
              "is_canceled                       0\n",
              "lead_time                         0\n",
              "arrival_date_year                 0\n",
              "arrival_date_month                0\n",
              "arrival_date_week_number          0\n",
              "arrival_date_day_of_month         0\n",
              "stays_in_weekend_nights           0\n",
              "stays_in_week_nights              0\n",
              "adults                            0\n",
              "children                          0\n",
              "babies                            0\n",
              "meal                              0\n",
              "country                           0\n",
              "market_segment                    0\n",
              "distribution_channel              0\n",
              "is_repeated_guest                 0\n",
              "previous_cancellations            0\n",
              "previous_bookings_not_canceled    0\n",
              "reserved_room_type                0\n",
              "assigned_room_type                0\n",
              "booking_changes                   0\n",
              "deposit_type                      0\n",
              "agent                             0\n",
              "company                           0\n",
              "days_in_waiting_list              0\n",
              "customer_type                     0\n",
              "adr                               0\n",
              "required_car_parking_spaces       0\n",
              "total_of_special_requests         0\n",
              "reservation_status                0\n",
              "reservation_status_date           0\n",
              "dtype: int64"
            ]
          },
          "metadata": {},
          "execution_count": 52
        }
      ]
    },
    {
      "cell_type": "markdown",
      "source": [
        "Now null values are eliminated but we still check for any dirty data or some data which cant be true ,which can make our analysis wrong.\n",
        "we will use a trial and error method to search for such controversial columns/data ."
      ],
      "metadata": {
        "id": "qC6i_ZWBEhMu"
      }
    },
    {
      "cell_type": "code",
      "source": [
        "pd.set_option('display.max_columns', None)  ### to see all the columns of the dataset which will make our analysis easier\n",
        "df1.head()  ###lets see our data for more refinement/manipulation"
      ],
      "metadata": {
        "colab": {
          "base_uri": "https://localhost:8080/",
          "height": 357
        },
        "id": "TBYLeJCzT1u7",
        "outputId": "41e75dbd-7866-4392-f85f-4bcfdb93327b"
      },
      "execution_count": 53,
      "outputs": [
        {
          "output_type": "execute_result",
          "data": {
            "text/plain": [
              "          hotel  is_canceled  lead_time  arrival_date_year arrival_date_month  \\\n",
              "0  Resort Hotel            0        342               2015               July   \n",
              "1  Resort Hotel            0        737               2015               July   \n",
              "2  Resort Hotel            0          7               2015               July   \n",
              "3  Resort Hotel            0         13               2015               July   \n",
              "4  Resort Hotel            0         14               2015               July   \n",
              "\n",
              "   arrival_date_week_number  arrival_date_day_of_month  \\\n",
              "0                        27                          1   \n",
              "1                        27                          1   \n",
              "2                        27                          1   \n",
              "3                        27                          1   \n",
              "4                        27                          1   \n",
              "\n",
              "   stays_in_weekend_nights  stays_in_week_nights  adults  children  babies  \\\n",
              "0                        0                     0       2       0.0       0   \n",
              "1                        0                     0       2       0.0       0   \n",
              "2                        0                     1       1       0.0       0   \n",
              "3                        0                     1       1       0.0       0   \n",
              "4                        0                     2       2       0.0       0   \n",
              "\n",
              "  meal country market_segment distribution_channel  is_repeated_guest  \\\n",
              "0   BB     PRT         Direct               Direct                  0   \n",
              "1   BB     PRT         Direct               Direct                  0   \n",
              "2   BB     GBR         Direct               Direct                  0   \n",
              "3   BB     GBR      Corporate            Corporate                  0   \n",
              "4   BB     GBR      Online TA                TA/TO                  0   \n",
              "\n",
              "   previous_cancellations  previous_bookings_not_canceled reserved_room_type  \\\n",
              "0                       0                               0                  C   \n",
              "1                       0                               0                  C   \n",
              "2                       0                               0                  A   \n",
              "3                       0                               0                  A   \n",
              "4                       0                               0                  A   \n",
              "\n",
              "  assigned_room_type  booking_changes deposit_type  agent  company  \\\n",
              "0                  C                3   No Deposit    0.0      0.0   \n",
              "1                  C                4   No Deposit    0.0      0.0   \n",
              "2                  C                0   No Deposit    0.0      0.0   \n",
              "3                  A                0   No Deposit  304.0      0.0   \n",
              "4                  A                0   No Deposit  240.0      0.0   \n",
              "\n",
              "   days_in_waiting_list customer_type   adr  required_car_parking_spaces  \\\n",
              "0                     0     Transient   0.0                            0   \n",
              "1                     0     Transient   0.0                            0   \n",
              "2                     0     Transient  75.0                            0   \n",
              "3                     0     Transient  75.0                            0   \n",
              "4                     0     Transient  98.0                            0   \n",
              "\n",
              "   total_of_special_requests reservation_status reservation_status_date  \n",
              "0                          0          Check-Out              2015-07-01  \n",
              "1                          0          Check-Out              2015-07-01  \n",
              "2                          0          Check-Out              2015-07-02  \n",
              "3                          0          Check-Out              2015-07-02  \n",
              "4                          1          Check-Out              2015-07-03  "
            ],
            "text/html": [
              "\n",
              "  <div id=\"df-bebf1e18-63ce-4f61-aee9-939e9faf29ff\">\n",
              "    <div class=\"colab-df-container\">\n",
              "      <div>\n",
              "<style scoped>\n",
              "    .dataframe tbody tr th:only-of-type {\n",
              "        vertical-align: middle;\n",
              "    }\n",
              "\n",
              "    .dataframe tbody tr th {\n",
              "        vertical-align: top;\n",
              "    }\n",
              "\n",
              "    .dataframe thead th {\n",
              "        text-align: right;\n",
              "    }\n",
              "</style>\n",
              "<table border=\"1\" class=\"dataframe\">\n",
              "  <thead>\n",
              "    <tr style=\"text-align: right;\">\n",
              "      <th></th>\n",
              "      <th>hotel</th>\n",
              "      <th>is_canceled</th>\n",
              "      <th>lead_time</th>\n",
              "      <th>arrival_date_year</th>\n",
              "      <th>arrival_date_month</th>\n",
              "      <th>arrival_date_week_number</th>\n",
              "      <th>arrival_date_day_of_month</th>\n",
              "      <th>stays_in_weekend_nights</th>\n",
              "      <th>stays_in_week_nights</th>\n",
              "      <th>adults</th>\n",
              "      <th>children</th>\n",
              "      <th>babies</th>\n",
              "      <th>meal</th>\n",
              "      <th>country</th>\n",
              "      <th>market_segment</th>\n",
              "      <th>distribution_channel</th>\n",
              "      <th>is_repeated_guest</th>\n",
              "      <th>previous_cancellations</th>\n",
              "      <th>previous_bookings_not_canceled</th>\n",
              "      <th>reserved_room_type</th>\n",
              "      <th>assigned_room_type</th>\n",
              "      <th>booking_changes</th>\n",
              "      <th>deposit_type</th>\n",
              "      <th>agent</th>\n",
              "      <th>company</th>\n",
              "      <th>days_in_waiting_list</th>\n",
              "      <th>customer_type</th>\n",
              "      <th>adr</th>\n",
              "      <th>required_car_parking_spaces</th>\n",
              "      <th>total_of_special_requests</th>\n",
              "      <th>reservation_status</th>\n",
              "      <th>reservation_status_date</th>\n",
              "    </tr>\n",
              "  </thead>\n",
              "  <tbody>\n",
              "    <tr>\n",
              "      <th>0</th>\n",
              "      <td>Resort Hotel</td>\n",
              "      <td>0</td>\n",
              "      <td>342</td>\n",
              "      <td>2015</td>\n",
              "      <td>July</td>\n",
              "      <td>27</td>\n",
              "      <td>1</td>\n",
              "      <td>0</td>\n",
              "      <td>0</td>\n",
              "      <td>2</td>\n",
              "      <td>0.0</td>\n",
              "      <td>0</td>\n",
              "      <td>BB</td>\n",
              "      <td>PRT</td>\n",
              "      <td>Direct</td>\n",
              "      <td>Direct</td>\n",
              "      <td>0</td>\n",
              "      <td>0</td>\n",
              "      <td>0</td>\n",
              "      <td>C</td>\n",
              "      <td>C</td>\n",
              "      <td>3</td>\n",
              "      <td>No Deposit</td>\n",
              "      <td>0.0</td>\n",
              "      <td>0.0</td>\n",
              "      <td>0</td>\n",
              "      <td>Transient</td>\n",
              "      <td>0.0</td>\n",
              "      <td>0</td>\n",
              "      <td>0</td>\n",
              "      <td>Check-Out</td>\n",
              "      <td>2015-07-01</td>\n",
              "    </tr>\n",
              "    <tr>\n",
              "      <th>1</th>\n",
              "      <td>Resort Hotel</td>\n",
              "      <td>0</td>\n",
              "      <td>737</td>\n",
              "      <td>2015</td>\n",
              "      <td>July</td>\n",
              "      <td>27</td>\n",
              "      <td>1</td>\n",
              "      <td>0</td>\n",
              "      <td>0</td>\n",
              "      <td>2</td>\n",
              "      <td>0.0</td>\n",
              "      <td>0</td>\n",
              "      <td>BB</td>\n",
              "      <td>PRT</td>\n",
              "      <td>Direct</td>\n",
              "      <td>Direct</td>\n",
              "      <td>0</td>\n",
              "      <td>0</td>\n",
              "      <td>0</td>\n",
              "      <td>C</td>\n",
              "      <td>C</td>\n",
              "      <td>4</td>\n",
              "      <td>No Deposit</td>\n",
              "      <td>0.0</td>\n",
              "      <td>0.0</td>\n",
              "      <td>0</td>\n",
              "      <td>Transient</td>\n",
              "      <td>0.0</td>\n",
              "      <td>0</td>\n",
              "      <td>0</td>\n",
              "      <td>Check-Out</td>\n",
              "      <td>2015-07-01</td>\n",
              "    </tr>\n",
              "    <tr>\n",
              "      <th>2</th>\n",
              "      <td>Resort Hotel</td>\n",
              "      <td>0</td>\n",
              "      <td>7</td>\n",
              "      <td>2015</td>\n",
              "      <td>July</td>\n",
              "      <td>27</td>\n",
              "      <td>1</td>\n",
              "      <td>0</td>\n",
              "      <td>1</td>\n",
              "      <td>1</td>\n",
              "      <td>0.0</td>\n",
              "      <td>0</td>\n",
              "      <td>BB</td>\n",
              "      <td>GBR</td>\n",
              "      <td>Direct</td>\n",
              "      <td>Direct</td>\n",
              "      <td>0</td>\n",
              "      <td>0</td>\n",
              "      <td>0</td>\n",
              "      <td>A</td>\n",
              "      <td>C</td>\n",
              "      <td>0</td>\n",
              "      <td>No Deposit</td>\n",
              "      <td>0.0</td>\n",
              "      <td>0.0</td>\n",
              "      <td>0</td>\n",
              "      <td>Transient</td>\n",
              "      <td>75.0</td>\n",
              "      <td>0</td>\n",
              "      <td>0</td>\n",
              "      <td>Check-Out</td>\n",
              "      <td>2015-07-02</td>\n",
              "    </tr>\n",
              "    <tr>\n",
              "      <th>3</th>\n",
              "      <td>Resort Hotel</td>\n",
              "      <td>0</td>\n",
              "      <td>13</td>\n",
              "      <td>2015</td>\n",
              "      <td>July</td>\n",
              "      <td>27</td>\n",
              "      <td>1</td>\n",
              "      <td>0</td>\n",
              "      <td>1</td>\n",
              "      <td>1</td>\n",
              "      <td>0.0</td>\n",
              "      <td>0</td>\n",
              "      <td>BB</td>\n",
              "      <td>GBR</td>\n",
              "      <td>Corporate</td>\n",
              "      <td>Corporate</td>\n",
              "      <td>0</td>\n",
              "      <td>0</td>\n",
              "      <td>0</td>\n",
              "      <td>A</td>\n",
              "      <td>A</td>\n",
              "      <td>0</td>\n",
              "      <td>No Deposit</td>\n",
              "      <td>304.0</td>\n",
              "      <td>0.0</td>\n",
              "      <td>0</td>\n",
              "      <td>Transient</td>\n",
              "      <td>75.0</td>\n",
              "      <td>0</td>\n",
              "      <td>0</td>\n",
              "      <td>Check-Out</td>\n",
              "      <td>2015-07-02</td>\n",
              "    </tr>\n",
              "    <tr>\n",
              "      <th>4</th>\n",
              "      <td>Resort Hotel</td>\n",
              "      <td>0</td>\n",
              "      <td>14</td>\n",
              "      <td>2015</td>\n",
              "      <td>July</td>\n",
              "      <td>27</td>\n",
              "      <td>1</td>\n",
              "      <td>0</td>\n",
              "      <td>2</td>\n",
              "      <td>2</td>\n",
              "      <td>0.0</td>\n",
              "      <td>0</td>\n",
              "      <td>BB</td>\n",
              "      <td>GBR</td>\n",
              "      <td>Online TA</td>\n",
              "      <td>TA/TO</td>\n",
              "      <td>0</td>\n",
              "      <td>0</td>\n",
              "      <td>0</td>\n",
              "      <td>A</td>\n",
              "      <td>A</td>\n",
              "      <td>0</td>\n",
              "      <td>No Deposit</td>\n",
              "      <td>240.0</td>\n",
              "      <td>0.0</td>\n",
              "      <td>0</td>\n",
              "      <td>Transient</td>\n",
              "      <td>98.0</td>\n",
              "      <td>0</td>\n",
              "      <td>1</td>\n",
              "      <td>Check-Out</td>\n",
              "      <td>2015-07-03</td>\n",
              "    </tr>\n",
              "  </tbody>\n",
              "</table>\n",
              "</div>\n",
              "      <button class=\"colab-df-convert\" onclick=\"convertToInteractive('df-bebf1e18-63ce-4f61-aee9-939e9faf29ff')\"\n",
              "              title=\"Convert this dataframe to an interactive table.\"\n",
              "              style=\"display:none;\">\n",
              "        \n",
              "  <svg xmlns=\"http://www.w3.org/2000/svg\" height=\"24px\"viewBox=\"0 0 24 24\"\n",
              "       width=\"24px\">\n",
              "    <path d=\"M0 0h24v24H0V0z\" fill=\"none\"/>\n",
              "    <path d=\"M18.56 5.44l.94 2.06.94-2.06 2.06-.94-2.06-.94-.94-2.06-.94 2.06-2.06.94zm-11 1L8.5 8.5l.94-2.06 2.06-.94-2.06-.94L8.5 2.5l-.94 2.06-2.06.94zm10 10l.94 2.06.94-2.06 2.06-.94-2.06-.94-.94-2.06-.94 2.06-2.06.94z\"/><path d=\"M17.41 7.96l-1.37-1.37c-.4-.4-.92-.59-1.43-.59-.52 0-1.04.2-1.43.59L10.3 9.45l-7.72 7.72c-.78.78-.78 2.05 0 2.83L4 21.41c.39.39.9.59 1.41.59.51 0 1.02-.2 1.41-.59l7.78-7.78 2.81-2.81c.8-.78.8-2.07 0-2.86zM5.41 20L4 18.59l7.72-7.72 1.47 1.35L5.41 20z\"/>\n",
              "  </svg>\n",
              "      </button>\n",
              "      \n",
              "  <style>\n",
              "    .colab-df-container {\n",
              "      display:flex;\n",
              "      flex-wrap:wrap;\n",
              "      gap: 12px;\n",
              "    }\n",
              "\n",
              "    .colab-df-convert {\n",
              "      background-color: #E8F0FE;\n",
              "      border: none;\n",
              "      border-radius: 50%;\n",
              "      cursor: pointer;\n",
              "      display: none;\n",
              "      fill: #1967D2;\n",
              "      height: 32px;\n",
              "      padding: 0 0 0 0;\n",
              "      width: 32px;\n",
              "    }\n",
              "\n",
              "    .colab-df-convert:hover {\n",
              "      background-color: #E2EBFA;\n",
              "      box-shadow: 0px 1px 2px rgba(60, 64, 67, 0.3), 0px 1px 3px 1px rgba(60, 64, 67, 0.15);\n",
              "      fill: #174EA6;\n",
              "    }\n",
              "\n",
              "    [theme=dark] .colab-df-convert {\n",
              "      background-color: #3B4455;\n",
              "      fill: #D2E3FC;\n",
              "    }\n",
              "\n",
              "    [theme=dark] .colab-df-convert:hover {\n",
              "      background-color: #434B5C;\n",
              "      box-shadow: 0px 1px 3px 1px rgba(0, 0, 0, 0.15);\n",
              "      filter: drop-shadow(0px 1px 2px rgba(0, 0, 0, 0.3));\n",
              "      fill: #FFFFFF;\n",
              "    }\n",
              "  </style>\n",
              "\n",
              "      <script>\n",
              "        const buttonEl =\n",
              "          document.querySelector('#df-bebf1e18-63ce-4f61-aee9-939e9faf29ff button.colab-df-convert');\n",
              "        buttonEl.style.display =\n",
              "          google.colab.kernel.accessAllowed ? 'block' : 'none';\n",
              "\n",
              "        async function convertToInteractive(key) {\n",
              "          const element = document.querySelector('#df-bebf1e18-63ce-4f61-aee9-939e9faf29ff');\n",
              "          const dataTable =\n",
              "            await google.colab.kernel.invokeFunction('convertToInteractive',\n",
              "                                                     [key], {});\n",
              "          if (!dataTable) return;\n",
              "\n",
              "          const docLinkHtml = 'Like what you see? Visit the ' +\n",
              "            '<a target=\"_blank\" href=https://colab.research.google.com/notebooks/data_table.ipynb>data table notebook</a>'\n",
              "            + ' to learn more about interactive tables.';\n",
              "          element.innerHTML = '';\n",
              "          dataTable['output_type'] = 'display_data';\n",
              "          await google.colab.output.renderOutput(dataTable, element);\n",
              "          const docLink = document.createElement('div');\n",
              "          docLink.innerHTML = docLinkHtml;\n",
              "          element.appendChild(docLink);\n",
              "        }\n",
              "      </script>\n",
              "    </div>\n",
              "  </div>\n",
              "  "
            ]
          },
          "metadata": {},
          "execution_count": 53
        }
      ]
    },
    {
      "cell_type": "code",
      "source": [
        "df1['stays_in_week_nights'] + df1['stays_in_weekend_nights'] ###checking for if any zero duration stays"
      ],
      "metadata": {
        "colab": {
          "base_uri": "https://localhost:8080/"
        },
        "id": "JA4xq69sI_if",
        "outputId": "ddaba9cb-c0ef-415b-fdb2-e250d774c257"
      },
      "execution_count": 54,
      "outputs": [
        {
          "output_type": "execute_result",
          "data": {
            "text/plain": [
              "0         0\n",
              "1         0\n",
              "2         1\n",
              "3         1\n",
              "4         2\n",
              "         ..\n",
              "119385    7\n",
              "119386    7\n",
              "119387    7\n",
              "119388    7\n",
              "119389    9\n",
              "Length: 87396, dtype: int64"
            ]
          },
          "metadata": {},
          "execution_count": 54
        }
      ]
    },
    {
      "cell_type": "code",
      "source": [
        "df1[df1['stays_in_weekend_nights']+df1['stays_in_week_nights']==0].shape  ###checking for if any zero duration stays"
      ],
      "metadata": {
        "colab": {
          "base_uri": "https://localhost:8080/"
        },
        "id": "rstYz4tHId0f",
        "outputId": "f4620ce9-21a2-4b78-b297-07e9f188d8fe"
      },
      "execution_count": 55,
      "outputs": [
        {
          "output_type": "execute_result",
          "data": {
            "text/plain": [
              "(651, 32)"
            ]
          },
          "metadata": {},
          "execution_count": 55
        }
      ]
    },
    {
      "cell_type": "code",
      "source": [
        "df1[df1['stays_in_weekend_nights']+df1['stays_in_week_nights']+df1['adults'] + df1['children'] + df1['babies']==0].shape"
      ],
      "metadata": {
        "colab": {
          "base_uri": "https://localhost:8080/"
        },
        "id": "YxJacrNZEehr",
        "outputId": "04ba87d0-4eb7-4116-9c3f-f98ebe8fb8e3"
      },
      "execution_count": 56,
      "outputs": [
        {
          "output_type": "execute_result",
          "data": {
            "text/plain": [
              "(60, 32)"
            ]
          },
          "metadata": {},
          "execution_count": 56
        }
      ]
    },
    {
      "cell_type": "code",
      "source": [
        "df1[df1['adults'] + df1['children'] + df1['babies']==0].shape   \n",
        "####there are some rows where total no of adults ,babies, children are zero , which is not possible"
      ],
      "metadata": {
        "colab": {
          "base_uri": "https://localhost:8080/"
        },
        "id": "8Wrx8Eef58kv",
        "outputId": "7e00ea19-896d-48ee-fd22-d126e5b34fb4"
      },
      "execution_count": 57,
      "outputs": [
        {
          "output_type": "execute_result",
          "data": {
            "text/plain": [
              "(166, 32)"
            ]
          },
          "metadata": {},
          "execution_count": 57
        }
      ]
    },
    {
      "cell_type": "markdown",
      "source": [
        "Looks like there is something fishy here. So we will drop the rows where total no of adults, children, babies are zero.\n",
        "Not doing anything with weeknight and weekend night stay columns because may be the stay was for very short duration in the day"
      ],
      "metadata": {
        "id": "ujfZtqjjLsH0"
      }
    },
    {
      "cell_type": "code",
      "source": [
        "df1.shape ###current shape of dataset"
      ],
      "metadata": {
        "colab": {
          "base_uri": "https://localhost:8080/"
        },
        "id": "-TQl7N4TQJdT",
        "outputId": "8241edf7-4637-40dd-f411-bae21da3a393"
      },
      "execution_count": 58,
      "outputs": [
        {
          "output_type": "execute_result",
          "data": {
            "text/plain": [
              "(87396, 32)"
            ]
          },
          "metadata": {},
          "execution_count": 58
        }
      ]
    },
    {
      "cell_type": "code",
      "source": [
        "df1.drop(df1[df1['adults'] + df1['children'] + df1['babies']==0].index, inplace=True )  \n",
        "### dropping those rows where total no of adults ,babies, children are zero , which is not possible\n"
      ],
      "metadata": {
        "id": "aXrRqq7y58tm"
      },
      "execution_count": 59,
      "outputs": []
    },
    {
      "cell_type": "code",
      "source": [
        "### Lets check the datatypes of the columns because inappropriate data types can hinder our coding\n",
        "df1.dtypes"
      ],
      "metadata": {
        "colab": {
          "base_uri": "https://localhost:8080/"
        },
        "id": "nAZ7tgqg56-D",
        "outputId": "6204b202-1d2f-48ff-942d-50f92cb00644"
      },
      "execution_count": 60,
      "outputs": [
        {
          "output_type": "execute_result",
          "data": {
            "text/plain": [
              "hotel                              object\n",
              "is_canceled                         int64\n",
              "lead_time                           int64\n",
              "arrival_date_year                   int64\n",
              "arrival_date_month                 object\n",
              "arrival_date_week_number            int64\n",
              "arrival_date_day_of_month           int64\n",
              "stays_in_weekend_nights             int64\n",
              "stays_in_week_nights                int64\n",
              "adults                              int64\n",
              "children                          float64\n",
              "babies                              int64\n",
              "meal                               object\n",
              "country                            object\n",
              "market_segment                     object\n",
              "distribution_channel               object\n",
              "is_repeated_guest                   int64\n",
              "previous_cancellations              int64\n",
              "previous_bookings_not_canceled      int64\n",
              "reserved_room_type                 object\n",
              "assigned_room_type                 object\n",
              "booking_changes                     int64\n",
              "deposit_type                       object\n",
              "agent                             float64\n",
              "company                           float64\n",
              "days_in_waiting_list                int64\n",
              "customer_type                      object\n",
              "adr                               float64\n",
              "required_car_parking_spaces         int64\n",
              "total_of_special_requests           int64\n",
              "reservation_status                 object\n",
              "reservation_status_date            object\n",
              "dtype: object"
            ]
          },
          "metadata": {},
          "execution_count": 60
        }
      ]
    },
    {
      "cell_type": "markdown",
      "source": [
        "Here everything seems fine except children, company, agent column should int data type\n",
        "\n",
        "Reservation status date should not be an object datatype, it should be in date time format "
      ],
      "metadata": {
        "id": "2c1nBjoASPXR"
      }
    },
    {
      "cell_type": "code",
      "source": [
        "# Converting datatype of columns 'children', 'company' and 'agent' from float to int.\n",
        "df1[['children', 'company', 'agent']] = df1[['children', 'company', 'agent']].astype('int64')"
      ],
      "metadata": {
        "id": "lvstF9-oR2GS"
      },
      "execution_count": 61,
      "outputs": []
    },
    {
      "cell_type": "code",
      "source": [
        "# changing datatype of column 'reservation_status_date' to data_type.\n",
        "df1['reservation_status_date'] = pd.to_datetime(df1['reservation_status_date'], format = '%Y-%m-%d')"
      ],
      "metadata": {
        "id": "G7ZwU1T9R2B5"
      },
      "execution_count": 62,
      "outputs": []
    },
    {
      "cell_type": "markdown",
      "source": [
        "We need to create some new columns which will carry information of more than one columns like 'total_stay' and 'total_people'"
      ],
      "metadata": {
        "id": "wynfwkC5Is14"
      }
    },
    {
      "cell_type": "code",
      "source": [
        "# Adding total staying days in hotels.This column will be our one main weapons of analysis\n",
        "df1['total_stay'] = df1['stays_in_weekend_nights']+df1['stays_in_week_nights']\n",
        "\n",
        "# Adding total people num as column, i.e. total people num = num of adults + children + babies\n",
        "df1['total_people'] = df1['adults']+df1['children']+df1['babies']"
      ],
      "metadata": {
        "id": "mQebybmNR15N"
      },
      "execution_count": 63,
      "outputs": []
    },
    {
      "cell_type": "markdown",
      "source": [
        "#**EDA**"
      ],
      "metadata": {
        "id": "Ol2Nedf-Jz-n"
      }
    },
    {
      "cell_type": "markdown",
      "source": [
        "#**4. Data Vizualization, Storytelling & Experimenting with charts : Understand the relationships between variables**"
      ],
      "metadata": {
        "id": "orYomi62HY4P"
      }
    },
    {
      "cell_type": "markdown",
      "source": [
        "First of all we need to distinguish between categorical and numerical features to start EDA part.\n",
        "- Categorical features ->  'is_canceled', 'meal','country', 'market_segment', 'distribution_channel','is_repeated_guest', 'reserved_room_type','assigned_room_type', 'deposit_type','reservation_status'\n",
        "\n",
        "- Numerical features -> 'lead_time','previous_cancellations','previous_bookings_not_canceled','booking_changes','days_in_waiting_list','adr','required_car_parking_spaces','total_of_special_requests','total_stay','total_people'\n"
      ],
      "metadata": {
        "id": "FosRJLJ9KYv0"
      }
    },
    {
      "cell_type": "code",
      "source": [
        "numerical_features=df1[['lead_time','previous_cancellations','previous_bookings_not_canceled','booking_changes','days_in_waiting_list','adr','required_car_parking_spaces','total_of_special_requests','total_stay','total_people']]\n",
        "numerical_features.dtypes"
      ],
      "metadata": {
        "colab": {
          "base_uri": "https://localhost:8080/"
        },
        "id": "al9hXhvd57Np",
        "outputId": "d9865a32-b4d0-47ae-c3d9-1de238ebf53e"
      },
      "execution_count": 64,
      "outputs": [
        {
          "output_type": "execute_result",
          "data": {
            "text/plain": [
              "lead_time                           int64\n",
              "previous_cancellations              int64\n",
              "previous_bookings_not_canceled      int64\n",
              "booking_changes                     int64\n",
              "days_in_waiting_list                int64\n",
              "adr                               float64\n",
              "required_car_parking_spaces         int64\n",
              "total_of_special_requests           int64\n",
              "total_stay                          int64\n",
              "total_people                        int64\n",
              "dtype: object"
            ]
          },
          "metadata": {},
          "execution_count": 64
        }
      ]
    },
    {
      "cell_type": "code",
      "source": [
        "categorical_features=df1[['is_canceled', 'meal','country', 'market_segment', 'distribution_channel','is_repeated_guest', 'reserved_room_type','assigned_room_type', 'deposit_type','reservation_status']]\n",
        "categorical_features.dtypes"
      ],
      "metadata": {
        "colab": {
          "base_uri": "https://localhost:8080/"
        },
        "id": "MnzOAF6kNqFt",
        "outputId": "4007bca0-742c-479c-cbcc-ee871b411129"
      },
      "execution_count": 65,
      "outputs": [
        {
          "output_type": "execute_result",
          "data": {
            "text/plain": [
              "is_canceled              int64\n",
              "meal                    object\n",
              "country                 object\n",
              "market_segment          object\n",
              "distribution_channel    object\n",
              "is_repeated_guest        int64\n",
              "reserved_room_type      object\n",
              "assigned_room_type      object\n",
              "deposit_type            object\n",
              "reservation_status      object\n",
              "dtype: object"
            ]
          },
          "metadata": {},
          "execution_count": 65
        }
      ]
    },
    {
      "cell_type": "markdown",
      "source": [
        "Lets check the correlation using correlation matrix between all numerical features, because it will give us some idea about which independent features are useful and has the potential to affect the dependent feature"
      ],
      "metadata": {
        "id": "VITzGNK6PZIC"
      }
    },
    {
      "cell_type": "markdown",
      "source": [
        "#### Chart - 1 \n",
        "Seaborn Heatmap - \n",
        "A heat map represents these coefficients to visualize the strength of correlation among variables "
      ],
      "metadata": {
        "id": "c1NSJjZJLf8s"
      }
    },
    {
      "cell_type": "code",
      "source": [
        "corr=numerical_features.corr()\n",
        "f, ax = plt.subplots(figsize=(12, 7))\n",
        "sns.heatmap(corr, annot=True, linewidth=.5)\n",
        "plt.show()"
      ],
      "metadata": {
        "colab": {
          "base_uri": "https://localhost:8080/",
          "height": 586
        },
        "id": "3lxiXasIPNMG",
        "outputId": "21559719-2c80-4275-f6a1-d9678dc9a05f"
      },
      "execution_count": 66,
      "outputs": [
        {
          "output_type": "display_data",
          "data": {
            "text/plain": [
              "<Figure size 864x504 with 2 Axes>"
            ],
            "image/png": "[encoded data removed]"
          },
          "metadata": {
            "needs_background": "light"
          }
        }
      ]
    },
    {
      "cell_type": "markdown",
      "source": [
        "2. What is/are the insight(s) found from the chart?\n",
        "Focusing on the lighter shades cells-\n",
        "- Good correlation between lead time and total stay = 0.32, it means people who are "
      ],
      "metadata": {
        "id": "y1CpnqSpTc0-"
      }
    },
    {
      "cell_type": "code",
      "source": [],
      "metadata": {
        "id": "i4KL7kmgPNPU"
      },
      "execution_count": 66,
      "outputs": []
    },
    {
      "cell_type": "code",
      "source": [],
      "metadata": {
        "id": "41xRXh6gPNSh"
      },
      "execution_count": 66,
      "outputs": []
    },
    {
      "cell_type": "code",
      "source": [],
      "metadata": {
        "id": "LCo-Tq59PNV6"
      },
      "execution_count": 66,
      "outputs": []
    },
    {
      "cell_type": "code",
      "source": [],
      "metadata": {
        "id": "mxkoCj69PNZA"
      },
      "execution_count": 66,
      "outputs": []
    }
  ]
}